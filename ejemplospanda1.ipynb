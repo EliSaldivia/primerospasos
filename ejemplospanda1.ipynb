{
  "cells": [
    {
      "cell_type": "markdown",
      "metadata": {
        "id": "view-in-github",
        "colab_type": "text"
      },
      "source": [
        "<a href=\"https://colab.research.google.com/github/EliSaldivia/primerospasos/blob/main/ejemplospanda1.ipynb\" target=\"_parent\"><img src=\"https://colab.research.google.com/assets/colab-badge.svg\" alt=\"Open In Colab\"/></a>"
      ]
    },
    {
      "cell_type": "code",
      "execution_count": null,
      "id": "7c490536-0e9e-4f51-9808-5021db91eba7",
      "metadata": {
        "id": "7c490536-0e9e-4f51-9808-5021db91eba7"
      },
      "outputs": [],
      "source": [
        "import numpy as np\n",
        "import pandas as pd"
      ]
    },
    {
      "cell_type": "code",
      "execution_count": null,
      "id": "8cdd7c7e-d930-4703-8912-a352b826232b",
      "metadata": {
        "id": "8cdd7c7e-d930-4703-8912-a352b826232b"
      },
      "outputs": [],
      "source": []
    },
    {
      "cell_type": "code",
      "execution_count": null,
      "id": "709a2374-7d5f-4b88-a696-bb51716be5ba",
      "metadata": {
        "id": "709a2374-7d5f-4b88-a696-bb51716be5ba",
        "outputId": "b3352176-3ece-4b07-938a-a34723642bb0",
        "colab": {
          "base_uri": "https://localhost:8080/"
        }
      },
      "outputs": [
        {
          "output_type": "execute_result",
          "data": {
            "text/plain": [
              "0    1.0\n",
              "1    3.0\n",
              "2    5.0\n",
              "3    NaN\n",
              "4    6.0\n",
              "5    8.0\n",
              "dtype: float64"
            ]
          },
          "metadata": {},
          "execution_count": 2
        }
      ],
      "source": [
        "s = pd.Series([1, 3, 5, np.nan, 6, 8]) # crea una serie de datos pasando una lista de valores, permitiendo q cree un índice entero predeterminado\n",
        "s"
      ]
    },
    {
      "cell_type": "code",
      "execution_count": null,
      "id": "8ddc6b13-9f8d-4e87-944b-b1172618dcaf",
      "metadata": {
        "id": "8ddc6b13-9f8d-4e87-944b-b1172618dcaf",
        "outputId": "84f225b0-ea3a-4634-a8a6-8dd3498f06a1"
      },
      "outputs": [
        {
          "data": {
            "text/plain": [
              "DatetimeIndex(['2022-10-02', '2022-10-03', '2022-10-04', '2022-10-05',\n",
              "               '2022-10-06', '2022-10-07', '2022-10-08', '2022-10-09',\n",
              "               '2022-10-10', '2022-10-11'],\n",
              "              dtype='datetime64[ns]', freq='D')"
            ]
          },
          "execution_count": 15,
          "metadata": {},
          "output_type": "execute_result"
        }
      ],
      "source": [
        "dates = pd.date_range(\"20221002\", periods=10) #crea un dataframe pasando una arreglo numpy con un seriado temporal\n",
        "dates\n"
      ]
    },
    {
      "cell_type": "code",
      "execution_count": null,
      "id": "6022dc8d-50b1-4686-bf55-79f3aefb6541",
      "metadata": {
        "id": "6022dc8d-50b1-4686-bf55-79f3aefb6541",
        "outputId": "af01c54d-d0b1-4379-d051-8b5db0cfa101"
      },
      "outputs": [
        {
          "data": {
            "text/html": [
              "<div>\n",
              "<style scoped>\n",
              "    .dataframe tbody tr th:only-of-type {\n",
              "        vertical-align: middle;\n",
              "    }\n",
              "\n",
              "    .dataframe tbody tr th {\n",
              "        vertical-align: top;\n",
              "    }\n",
              "\n",
              "    .dataframe thead th {\n",
              "        text-align: right;\n",
              "    }\n",
              "</style>\n",
              "<table border=\"1\" class=\"dataframe\">\n",
              "  <thead>\n",
              "    <tr style=\"text-align: right;\">\n",
              "      <th></th>\n",
              "      <th>c</th>\n",
              "      <th>a</th>\n",
              "      <th>t</th>\n",
              "    </tr>\n",
              "  </thead>\n",
              "  <tbody>\n",
              "    <tr>\n",
              "      <th>2022-10-02</th>\n",
              "      <td>0.881703</td>\n",
              "      <td>0.821323</td>\n",
              "      <td>-0.971782</td>\n",
              "    </tr>\n",
              "    <tr>\n",
              "      <th>2022-10-03</th>\n",
              "      <td>-0.521404</td>\n",
              "      <td>0.103158</td>\n",
              "      <td>-0.067440</td>\n",
              "    </tr>\n",
              "    <tr>\n",
              "      <th>2022-10-04</th>\n",
              "      <td>1.049436</td>\n",
              "      <td>-0.437048</td>\n",
              "      <td>-2.045406</td>\n",
              "    </tr>\n",
              "    <tr>\n",
              "      <th>2022-10-05</th>\n",
              "      <td>1.898311</td>\n",
              "      <td>-1.121081</td>\n",
              "      <td>2.039884</td>\n",
              "    </tr>\n",
              "    <tr>\n",
              "      <th>2022-10-06</th>\n",
              "      <td>1.176737</td>\n",
              "      <td>0.421491</td>\n",
              "      <td>1.421084</td>\n",
              "    </tr>\n",
              "    <tr>\n",
              "      <th>2022-10-07</th>\n",
              "      <td>-0.630086</td>\n",
              "      <td>1.472090</td>\n",
              "      <td>-0.191784</td>\n",
              "    </tr>\n",
              "    <tr>\n",
              "      <th>2022-10-08</th>\n",
              "      <td>-1.418966</td>\n",
              "      <td>-0.161707</td>\n",
              "      <td>0.343028</td>\n",
              "    </tr>\n",
              "    <tr>\n",
              "      <th>2022-10-09</th>\n",
              "      <td>-0.175687</td>\n",
              "      <td>0.789459</td>\n",
              "      <td>0.682181</td>\n",
              "    </tr>\n",
              "    <tr>\n",
              "      <th>2022-10-10</th>\n",
              "      <td>0.380855</td>\n",
              "      <td>-0.971559</td>\n",
              "      <td>-0.856660</td>\n",
              "    </tr>\n",
              "    <tr>\n",
              "      <th>2022-10-11</th>\n",
              "      <td>-0.626967</td>\n",
              "      <td>0.027880</td>\n",
              "      <td>0.014861</td>\n",
              "    </tr>\n",
              "  </tbody>\n",
              "</table>\n",
              "</div>"
            ],
            "text/plain": [
              "                   c         a         t\n",
              "2022-10-02  0.881703  0.821323 -0.971782\n",
              "2022-10-03 -0.521404  0.103158 -0.067440\n",
              "2022-10-04  1.049436 -0.437048 -2.045406\n",
              "2022-10-05  1.898311 -1.121081  2.039884\n",
              "2022-10-06  1.176737  0.421491  1.421084\n",
              "2022-10-07 -0.630086  1.472090 -0.191784\n",
              "2022-10-08 -1.418966 -0.161707  0.343028\n",
              "2022-10-09 -0.175687  0.789459  0.682181\n",
              "2022-10-10  0.380855 -0.971559 -0.856660\n",
              "2022-10-11 -0.626967  0.027880  0.014861"
            ]
          },
          "execution_count": 16,
          "metadata": {},
          "output_type": "execute_result"
        }
      ],
      "source": [
        "df = pd.DataFrame(np.random.randn(10, 3), index=dates, columns=list(\"cat\"))\n",
        "df"
      ]
    },
    {
      "cell_type": "code",
      "execution_count": null,
      "id": "94e45cb7-eb7f-480c-9a16-bdc5a70a2df9",
      "metadata": {
        "id": "94e45cb7-eb7f-480c-9a16-bdc5a70a2df9",
        "outputId": "3e116356-1978-4b86-db49-e5d9a5e35a32"
      },
      "outputs": [
        {
          "data": {
            "text/html": [
              "<div>\n",
              "<style scoped>\n",
              "    .dataframe tbody tr th:only-of-type {\n",
              "        vertical-align: middle;\n",
              "    }\n",
              "\n",
              "    .dataframe tbody tr th {\n",
              "        vertical-align: top;\n",
              "    }\n",
              "\n",
              "    .dataframe thead th {\n",
              "        text-align: right;\n",
              "    }\n",
              "</style>\n",
              "<table border=\"1\" class=\"dataframe\">\n",
              "  <thead>\n",
              "    <tr style=\"text-align: right;\">\n",
              "      <th></th>\n",
              "      <th>A</th>\n",
              "      <th>B</th>\n",
              "      <th>C</th>\n",
              "      <th>D</th>\n",
              "      <th>E</th>\n",
              "      <th>F</th>\n",
              "    </tr>\n",
              "  </thead>\n",
              "  <tbody>\n",
              "    <tr>\n",
              "      <th>0</th>\n",
              "      <td>1.0</td>\n",
              "      <td>2013-01-02</td>\n",
              "      <td>1.0</td>\n",
              "      <td>3</td>\n",
              "      <td>test</td>\n",
              "      <td>foo</td>\n",
              "    </tr>\n",
              "    <tr>\n",
              "      <th>1</th>\n",
              "      <td>1.0</td>\n",
              "      <td>2013-01-02</td>\n",
              "      <td>1.0</td>\n",
              "      <td>3</td>\n",
              "      <td>train</td>\n",
              "      <td>foo</td>\n",
              "    </tr>\n",
              "    <tr>\n",
              "      <th>2</th>\n",
              "      <td>1.0</td>\n",
              "      <td>2013-01-02</td>\n",
              "      <td>1.0</td>\n",
              "      <td>3</td>\n",
              "      <td>test</td>\n",
              "      <td>foo</td>\n",
              "    </tr>\n",
              "    <tr>\n",
              "      <th>3</th>\n",
              "      <td>1.0</td>\n",
              "      <td>2013-01-02</td>\n",
              "      <td>1.0</td>\n",
              "      <td>3</td>\n",
              "      <td>train</td>\n",
              "      <td>foo</td>\n",
              "    </tr>\n",
              "  </tbody>\n",
              "</table>\n",
              "</div>"
            ],
            "text/plain": [
              "     A          B    C  D      E    F\n",
              "0  1.0 2013-01-02  1.0  3   test  foo\n",
              "1  1.0 2013-01-02  1.0  3  train  foo\n",
              "2  1.0 2013-01-02  1.0  3   test  foo\n",
              "3  1.0 2013-01-02  1.0  3  train  foo"
            ]
          },
          "execution_count": 17,
          "metadata": {},
          "output_type": "execute_result"
        }
      ],
      "source": [
        "df2 = pd.DataFrame(\n",
        "\n",
        "    {\n",
        "\n",
        "        \"A\": 1.0,\n",
        "\n",
        "        \"B\": pd.Timestamp(\"20130102\"),\n",
        "\n",
        "        \"C\": pd.Series(1, index=list(range(4)), dtype=\"float32\"),\n",
        "\n",
        "        \"D\": np.array([3] * 4, dtype=\"int32\"),\n",
        "\n",
        "        \"E\": pd.Categorical([\"test\", \"train\", \"test\", \"train\"]),\n",
        "\n",
        "        \"F\": \"foo\",\n",
        "\n",
        "    }\n",
        "\n",
        ") #asigna a cada columna un tipo de objeto difrente\n",
        "\n",
        "df2\n"
      ]
    },
    {
      "cell_type": "code",
      "execution_count": null,
      "id": "957bfe0a-5c97-45fd-b2cd-e133368c4529",
      "metadata": {
        "id": "957bfe0a-5c97-45fd-b2cd-e133368c4529",
        "outputId": "30fff870-ffa8-4eef-a5ee-25467a0d66e9"
      },
      "outputs": [
        {
          "data": {
            "text/plain": [
              "A           float64\n",
              "B    datetime64[ns]\n",
              "C           float32\n",
              "D             int32\n",
              "E          category\n",
              "F            object\n",
              "dtype: object"
            ]
          },
          "execution_count": 18,
          "metadata": {},
          "output_type": "execute_result"
        }
      ],
      "source": [
        "df2.dtypes"
      ]
    },
    {
      "cell_type": "code",
      "execution_count": null,
      "id": "7142f18c-fe32-4012-ae5b-0259e47b3a14",
      "metadata": {
        "id": "7142f18c-fe32-4012-ae5b-0259e47b3a14",
        "outputId": "3e154a09-a1ac-4840-a76b-40a735b8579d"
      },
      "outputs": [
        {
          "data": {
            "text/plain": [
              "c    float64\n",
              "a    float64\n",
              "t    float64\n",
              "dtype: object"
            ]
          },
          "execution_count": 19,
          "metadata": {},
          "output_type": "execute_result"
        }
      ],
      "source": [
        "df.dtypes # reconoce que tipo de objeto hay en cada columna"
      ]
    },
    {
      "cell_type": "code",
      "execution_count": null,
      "id": "62312061-0ea3-4982-bd83-0e1c68f48fd8",
      "metadata": {
        "id": "62312061-0ea3-4982-bd83-0e1c68f48fd8",
        "outputId": "4470fc98-a410-4795-ac64-cb39ab967526"
      },
      "outputs": [
        {
          "data": {
            "text/html": [
              "<div>\n",
              "<style scoped>\n",
              "    .dataframe tbody tr th:only-of-type {\n",
              "        vertical-align: middle;\n",
              "    }\n",
              "\n",
              "    .dataframe tbody tr th {\n",
              "        vertical-align: top;\n",
              "    }\n",
              "\n",
              "    .dataframe thead th {\n",
              "        text-align: right;\n",
              "    }\n",
              "</style>\n",
              "<table border=\"1\" class=\"dataframe\">\n",
              "  <thead>\n",
              "    <tr style=\"text-align: right;\">\n",
              "      <th></th>\n",
              "      <th>c</th>\n",
              "      <th>a</th>\n",
              "      <th>t</th>\n",
              "    </tr>\n",
              "  </thead>\n",
              "  <tbody>\n",
              "    <tr>\n",
              "      <th>2022-10-02</th>\n",
              "      <td>0.881703</td>\n",
              "      <td>0.821323</td>\n",
              "      <td>-0.971782</td>\n",
              "    </tr>\n",
              "    <tr>\n",
              "      <th>2022-10-03</th>\n",
              "      <td>-0.521404</td>\n",
              "      <td>0.103158</td>\n",
              "      <td>-0.067440</td>\n",
              "    </tr>\n",
              "  </tbody>\n",
              "</table>\n",
              "</div>"
            ],
            "text/plain": [
              "                   c         a         t\n",
              "2022-10-02  0.881703  0.821323 -0.971782\n",
              "2022-10-03 -0.521404  0.103158 -0.067440"
            ]
          },
          "execution_count": 21,
          "metadata": {},
          "output_type": "execute_result"
        }
      ],
      "source": [
        "df.head(2) #muestra los () primeros renglones del frame"
      ]
    },
    {
      "cell_type": "code",
      "execution_count": null,
      "id": "8885c055-0dfa-42c8-b7a6-681d24723c9f",
      "metadata": {
        "id": "8885c055-0dfa-42c8-b7a6-681d24723c9f",
        "outputId": "edde0586-a29f-40d9-cce7-c1fd4a0e4656"
      },
      "outputs": [
        {
          "data": {
            "text/html": [
              "<div>\n",
              "<style scoped>\n",
              "    .dataframe tbody tr th:only-of-type {\n",
              "        vertical-align: middle;\n",
              "    }\n",
              "\n",
              "    .dataframe tbody tr th {\n",
              "        vertical-align: top;\n",
              "    }\n",
              "\n",
              "    .dataframe thead th {\n",
              "        text-align: right;\n",
              "    }\n",
              "</style>\n",
              "<table border=\"1\" class=\"dataframe\">\n",
              "  <thead>\n",
              "    <tr style=\"text-align: right;\">\n",
              "      <th></th>\n",
              "      <th>c</th>\n",
              "      <th>a</th>\n",
              "      <th>t</th>\n",
              "    </tr>\n",
              "  </thead>\n",
              "  <tbody>\n",
              "    <tr>\n",
              "      <th>2022-10-07</th>\n",
              "      <td>-0.630086</td>\n",
              "      <td>1.472090</td>\n",
              "      <td>-0.191784</td>\n",
              "    </tr>\n",
              "    <tr>\n",
              "      <th>2022-10-08</th>\n",
              "      <td>-1.418966</td>\n",
              "      <td>-0.161707</td>\n",
              "      <td>0.343028</td>\n",
              "    </tr>\n",
              "    <tr>\n",
              "      <th>2022-10-09</th>\n",
              "      <td>-0.175687</td>\n",
              "      <td>0.789459</td>\n",
              "      <td>0.682181</td>\n",
              "    </tr>\n",
              "    <tr>\n",
              "      <th>2022-10-10</th>\n",
              "      <td>0.380855</td>\n",
              "      <td>-0.971559</td>\n",
              "      <td>-0.856660</td>\n",
              "    </tr>\n",
              "    <tr>\n",
              "      <th>2022-10-11</th>\n",
              "      <td>-0.626967</td>\n",
              "      <td>0.027880</td>\n",
              "      <td>0.014861</td>\n",
              "    </tr>\n",
              "  </tbody>\n",
              "</table>\n",
              "</div>"
            ],
            "text/plain": [
              "                   c         a         t\n",
              "2022-10-07 -0.630086  1.472090 -0.191784\n",
              "2022-10-08 -1.418966 -0.161707  0.343028\n",
              "2022-10-09 -0.175687  0.789459  0.682181\n",
              "2022-10-10  0.380855 -0.971559 -0.856660\n",
              "2022-10-11 -0.626967  0.027880  0.014861"
            ]
          },
          "execution_count": 22,
          "metadata": {},
          "output_type": "execute_result"
        }
      ],
      "source": [
        "df.tail(5) #muestra los () ultimos renglones del frame"
      ]
    },
    {
      "cell_type": "code",
      "execution_count": null,
      "id": "c1ca8ad1-fdac-4bbd-9a05-dea6643b8df4",
      "metadata": {
        "id": "c1ca8ad1-fdac-4bbd-9a05-dea6643b8df4",
        "outputId": "797d080e-dfdb-4396-ac88-14acc23483ea"
      },
      "outputs": [
        {
          "data": {
            "text/plain": [
              "DatetimeIndex(['2022-10-02', '2022-10-03', '2022-10-04', '2022-10-05',\n",
              "               '2022-10-06', '2022-10-07', '2022-10-08', '2022-10-09',\n",
              "               '2022-10-10', '2022-10-11'],\n",
              "              dtype='datetime64[ns]', freq='D')"
            ]
          },
          "execution_count": 23,
          "metadata": {},
          "output_type": "execute_result"
        }
      ],
      "source": [
        "df.index #muestra los indices del frame"
      ]
    },
    {
      "cell_type": "code",
      "execution_count": null,
      "id": "5a4895e9-a8d3-411e-959b-f15b378e37a8",
      "metadata": {
        "id": "5a4895e9-a8d3-411e-959b-f15b378e37a8",
        "outputId": "2a9c7120-441b-48bb-faef-f58b84f4af1b"
      },
      "outputs": [
        {
          "data": {
            "text/plain": [
              "Index(['c', 'a', 't'], dtype='object')"
            ]
          },
          "execution_count": 24,
          "metadata": {},
          "output_type": "execute_result"
        }
      ],
      "source": [
        "df.columns #muestra las columnas del frame"
      ]
    },
    {
      "cell_type": "code",
      "execution_count": null,
      "id": "0fd0e82a-68ba-4389-a025-4bcbdf4f897a",
      "metadata": {
        "id": "0fd0e82a-68ba-4389-a025-4bcbdf4f897a",
        "outputId": "62040c58-c3a4-4523-eb42-b28483d8db72"
      },
      "outputs": [
        {
          "data": {
            "text/plain": [
              "array([[ 0.88170261,  0.82132265, -0.97178174],\n",
              "       [-0.52140391,  0.10315846, -0.06744046],\n",
              "       [ 1.04943645, -0.43704771, -2.04540617],\n",
              "       [ 1.89831063, -1.12108076,  2.03988392],\n",
              "       [ 1.17673729,  0.4214906 ,  1.42108379],\n",
              "       [-0.63008637,  1.4720898 , -0.19178412],\n",
              "       [-1.41896578, -0.1617069 ,  0.34302829],\n",
              "       [-0.17568696,  0.78945934,  0.68218054],\n",
              "       [ 0.38085495, -0.97155879, -0.85665996],\n",
              "       [-0.62696732,  0.02787963,  0.01486091]])"
            ]
          },
          "execution_count": 25,
          "metadata": {},
          "output_type": "execute_result"
        }
      ],
      "source": [
        "df.to_numpy()"
      ]
    },
    {
      "cell_type": "code",
      "execution_count": null,
      "id": "00ca5c1a-96e7-4514-8a5b-3e38c4cc1a68",
      "metadata": {
        "id": "00ca5c1a-96e7-4514-8a5b-3e38c4cc1a68",
        "outputId": "a953d5b6-9f3b-457c-9907-e9d0952f9714"
      },
      "outputs": [
        {
          "data": {
            "text/plain": [
              "array([[1.0, Timestamp('2013-01-02 00:00:00'), 1.0, 3, 'test', 'foo'],\n",
              "       [1.0, Timestamp('2013-01-02 00:00:00'), 1.0, 3, 'train', 'foo'],\n",
              "       [1.0, Timestamp('2013-01-02 00:00:00'), 1.0, 3, 'test', 'foo'],\n",
              "       [1.0, Timestamp('2013-01-02 00:00:00'), 1.0, 3, 'train', 'foo']],\n",
              "      dtype=object)"
            ]
          },
          "execution_count": 26,
          "metadata": {},
          "output_type": "execute_result"
        }
      ],
      "source": [
        "df2.to_numpy()"
      ]
    },
    {
      "cell_type": "code",
      "execution_count": null,
      "id": "2ea65ef6-5a9a-4d87-bb2c-525979e0184f",
      "metadata": {
        "id": "2ea65ef6-5a9a-4d87-bb2c-525979e0184f",
        "outputId": "d771bd35-67d3-4b82-bf77-933d41d9773f"
      },
      "outputs": [
        {
          "data": {
            "text/html": [
              "<div>\n",
              "<style scoped>\n",
              "    .dataframe tbody tr th:only-of-type {\n",
              "        vertical-align: middle;\n",
              "    }\n",
              "\n",
              "    .dataframe tbody tr th {\n",
              "        vertical-align: top;\n",
              "    }\n",
              "\n",
              "    .dataframe thead th {\n",
              "        text-align: right;\n",
              "    }\n",
              "</style>\n",
              "<table border=\"1\" class=\"dataframe\">\n",
              "  <thead>\n",
              "    <tr style=\"text-align: right;\">\n",
              "      <th></th>\n",
              "      <th>c</th>\n",
              "      <th>a</th>\n",
              "      <th>t</th>\n",
              "    </tr>\n",
              "  </thead>\n",
              "  <tbody>\n",
              "    <tr>\n",
              "      <th>count</th>\n",
              "      <td>10.000000</td>\n",
              "      <td>10.000000</td>\n",
              "      <td>10.000000</td>\n",
              "    </tr>\n",
              "    <tr>\n",
              "      <th>mean</th>\n",
              "      <td>0.201393</td>\n",
              "      <td>0.094401</td>\n",
              "      <td>0.036796</td>\n",
              "    </tr>\n",
              "    <tr>\n",
              "      <th>std</th>\n",
              "      <td>1.038843</td>\n",
              "      <td>0.815321</td>\n",
              "      <td>1.185728</td>\n",
              "    </tr>\n",
              "    <tr>\n",
              "      <th>min</th>\n",
              "      <td>-1.418966</td>\n",
              "      <td>-1.121081</td>\n",
              "      <td>-2.045406</td>\n",
              "    </tr>\n",
              "    <tr>\n",
              "      <th>25%</th>\n",
              "      <td>-0.600576</td>\n",
              "      <td>-0.368213</td>\n",
              "      <td>-0.690441</td>\n",
              "    </tr>\n",
              "    <tr>\n",
              "      <th>50%</th>\n",
              "      <td>0.102584</td>\n",
              "      <td>0.065519</td>\n",
              "      <td>-0.026290</td>\n",
              "    </tr>\n",
              "    <tr>\n",
              "      <th>75%</th>\n",
              "      <td>1.007503</td>\n",
              "      <td>0.697467</td>\n",
              "      <td>0.597392</td>\n",
              "    </tr>\n",
              "    <tr>\n",
              "      <th>max</th>\n",
              "      <td>1.898311</td>\n",
              "      <td>1.472090</td>\n",
              "      <td>2.039884</td>\n",
              "    </tr>\n",
              "  </tbody>\n",
              "</table>\n",
              "</div>"
            ],
            "text/plain": [
              "               c          a          t\n",
              "count  10.000000  10.000000  10.000000\n",
              "mean    0.201393   0.094401   0.036796\n",
              "std     1.038843   0.815321   1.185728\n",
              "min    -1.418966  -1.121081  -2.045406\n",
              "25%    -0.600576  -0.368213  -0.690441\n",
              "50%     0.102584   0.065519  -0.026290\n",
              "75%     1.007503   0.697467   0.597392\n",
              "max     1.898311   1.472090   2.039884"
            ]
          },
          "execution_count": 27,
          "metadata": {},
          "output_type": "execute_result"
        }
      ],
      "source": [
        "df.describe() #muestra las estadisticas rapidas de los datos"
      ]
    },
    {
      "cell_type": "code",
      "execution_count": null,
      "id": "8e3c8841-44ba-46c5-9b37-10928545feb3",
      "metadata": {
        "id": "8e3c8841-44ba-46c5-9b37-10928545feb3",
        "outputId": "348c4a7d-1d77-482d-84cf-b0e49e53b2c2"
      },
      "outputs": [
        {
          "data": {
            "text/html": [
              "<div>\n",
              "<style scoped>\n",
              "    .dataframe tbody tr th:only-of-type {\n",
              "        vertical-align: middle;\n",
              "    }\n",
              "\n",
              "    .dataframe tbody tr th {\n",
              "        vertical-align: top;\n",
              "    }\n",
              "\n",
              "    .dataframe thead th {\n",
              "        text-align: right;\n",
              "    }\n",
              "</style>\n",
              "<table border=\"1\" class=\"dataframe\">\n",
              "  <thead>\n",
              "    <tr style=\"text-align: right;\">\n",
              "      <th></th>\n",
              "      <th>2022-10-02</th>\n",
              "      <th>2022-10-03</th>\n",
              "      <th>2022-10-04</th>\n",
              "      <th>2022-10-05</th>\n",
              "      <th>2022-10-06</th>\n",
              "      <th>2022-10-07</th>\n",
              "      <th>2022-10-08</th>\n",
              "      <th>2022-10-09</th>\n",
              "      <th>2022-10-10</th>\n",
              "      <th>2022-10-11</th>\n",
              "    </tr>\n",
              "  </thead>\n",
              "  <tbody>\n",
              "    <tr>\n",
              "      <th>c</th>\n",
              "      <td>0.881703</td>\n",
              "      <td>-0.521404</td>\n",
              "      <td>1.049436</td>\n",
              "      <td>1.898311</td>\n",
              "      <td>1.176737</td>\n",
              "      <td>-0.630086</td>\n",
              "      <td>-1.418966</td>\n",
              "      <td>-0.175687</td>\n",
              "      <td>0.380855</td>\n",
              "      <td>-0.626967</td>\n",
              "    </tr>\n",
              "    <tr>\n",
              "      <th>a</th>\n",
              "      <td>0.821323</td>\n",
              "      <td>0.103158</td>\n",
              "      <td>-0.437048</td>\n",
              "      <td>-1.121081</td>\n",
              "      <td>0.421491</td>\n",
              "      <td>1.472090</td>\n",
              "      <td>-0.161707</td>\n",
              "      <td>0.789459</td>\n",
              "      <td>-0.971559</td>\n",
              "      <td>0.027880</td>\n",
              "    </tr>\n",
              "    <tr>\n",
              "      <th>t</th>\n",
              "      <td>-0.971782</td>\n",
              "      <td>-0.067440</td>\n",
              "      <td>-2.045406</td>\n",
              "      <td>2.039884</td>\n",
              "      <td>1.421084</td>\n",
              "      <td>-0.191784</td>\n",
              "      <td>0.343028</td>\n",
              "      <td>0.682181</td>\n",
              "      <td>-0.856660</td>\n",
              "      <td>0.014861</td>\n",
              "    </tr>\n",
              "  </tbody>\n",
              "</table>\n",
              "</div>"
            ],
            "text/plain": [
              "   2022-10-02  2022-10-03  2022-10-04  2022-10-05  2022-10-06  2022-10-07  \\\n",
              "c    0.881703   -0.521404    1.049436    1.898311    1.176737   -0.630086   \n",
              "a    0.821323    0.103158   -0.437048   -1.121081    0.421491    1.472090   \n",
              "t   -0.971782   -0.067440   -2.045406    2.039884    1.421084   -0.191784   \n",
              "\n",
              "   2022-10-08  2022-10-09  2022-10-10  2022-10-11  \n",
              "c   -1.418966   -0.175687    0.380855   -0.626967  \n",
              "a   -0.161707    0.789459   -0.971559    0.027880  \n",
              "t    0.343028    0.682181   -0.856660    0.014861  "
            ]
          },
          "execution_count": 28,
          "metadata": {},
          "output_type": "execute_result"
        }
      ],
      "source": [
        "df.T"
      ]
    },
    {
      "cell_type": "code",
      "execution_count": null,
      "id": "aaefc106-d335-49d7-b805-5c558e229ae2",
      "metadata": {
        "id": "aaefc106-d335-49d7-b805-5c558e229ae2",
        "outputId": "6edf901f-8fd9-4969-87dc-39e9633f1ed7"
      },
      "outputs": [
        {
          "data": {
            "text/html": [
              "<div>\n",
              "<style scoped>\n",
              "    .dataframe tbody tr th:only-of-type {\n",
              "        vertical-align: middle;\n",
              "    }\n",
              "\n",
              "    .dataframe tbody tr th {\n",
              "        vertical-align: top;\n",
              "    }\n",
              "\n",
              "    .dataframe thead th {\n",
              "        text-align: right;\n",
              "    }\n",
              "</style>\n",
              "<table border=\"1\" class=\"dataframe\">\n",
              "  <thead>\n",
              "    <tr style=\"text-align: right;\">\n",
              "      <th></th>\n",
              "      <th>t</th>\n",
              "      <th>c</th>\n",
              "      <th>a</th>\n",
              "    </tr>\n",
              "  </thead>\n",
              "  <tbody>\n",
              "    <tr>\n",
              "      <th>2022-10-02</th>\n",
              "      <td>-0.971782</td>\n",
              "      <td>0.881703</td>\n",
              "      <td>0.821323</td>\n",
              "    </tr>\n",
              "    <tr>\n",
              "      <th>2022-10-03</th>\n",
              "      <td>-0.067440</td>\n",
              "      <td>-0.521404</td>\n",
              "      <td>0.103158</td>\n",
              "    </tr>\n",
              "    <tr>\n",
              "      <th>2022-10-04</th>\n",
              "      <td>-2.045406</td>\n",
              "      <td>1.049436</td>\n",
              "      <td>-0.437048</td>\n",
              "    </tr>\n",
              "    <tr>\n",
              "      <th>2022-10-05</th>\n",
              "      <td>2.039884</td>\n",
              "      <td>1.898311</td>\n",
              "      <td>-1.121081</td>\n",
              "    </tr>\n",
              "    <tr>\n",
              "      <th>2022-10-06</th>\n",
              "      <td>1.421084</td>\n",
              "      <td>1.176737</td>\n",
              "      <td>0.421491</td>\n",
              "    </tr>\n",
              "    <tr>\n",
              "      <th>2022-10-07</th>\n",
              "      <td>-0.191784</td>\n",
              "      <td>-0.630086</td>\n",
              "      <td>1.472090</td>\n",
              "    </tr>\n",
              "    <tr>\n",
              "      <th>2022-10-08</th>\n",
              "      <td>0.343028</td>\n",
              "      <td>-1.418966</td>\n",
              "      <td>-0.161707</td>\n",
              "    </tr>\n",
              "    <tr>\n",
              "      <th>2022-10-09</th>\n",
              "      <td>0.682181</td>\n",
              "      <td>-0.175687</td>\n",
              "      <td>0.789459</td>\n",
              "    </tr>\n",
              "    <tr>\n",
              "      <th>2022-10-10</th>\n",
              "      <td>-0.856660</td>\n",
              "      <td>0.380855</td>\n",
              "      <td>-0.971559</td>\n",
              "    </tr>\n",
              "    <tr>\n",
              "      <th>2022-10-11</th>\n",
              "      <td>0.014861</td>\n",
              "      <td>-0.626967</td>\n",
              "      <td>0.027880</td>\n",
              "    </tr>\n",
              "  </tbody>\n",
              "</table>\n",
              "</div>"
            ],
            "text/plain": [
              "                   t         c         a\n",
              "2022-10-02 -0.971782  0.881703  0.821323\n",
              "2022-10-03 -0.067440 -0.521404  0.103158\n",
              "2022-10-04 -2.045406  1.049436 -0.437048\n",
              "2022-10-05  2.039884  1.898311 -1.121081\n",
              "2022-10-06  1.421084  1.176737  0.421491\n",
              "2022-10-07 -0.191784 -0.630086  1.472090\n",
              "2022-10-08  0.343028 -1.418966 -0.161707\n",
              "2022-10-09  0.682181 -0.175687  0.789459\n",
              "2022-10-10 -0.856660  0.380855 -0.971559\n",
              "2022-10-11  0.014861 -0.626967  0.027880"
            ]
          },
          "execution_count": 30,
          "metadata": {},
          "output_type": "execute_result"
        }
      ],
      "source": [
        "df.sort_index(axis=1, ascending=False)"
      ]
    },
    {
      "cell_type": "code",
      "execution_count": null,
      "id": "9e9897b0-c9dd-4914-be32-cce251169f7b",
      "metadata": {
        "id": "9e9897b0-c9dd-4914-be32-cce251169f7b",
        "outputId": "46d6635a-bfb1-41a5-dfc4-70cb6b8a72a9"
      },
      "outputs": [
        {
          "data": {
            "text/html": [
              "<div>\n",
              "<style scoped>\n",
              "    .dataframe tbody tr th:only-of-type {\n",
              "        vertical-align: middle;\n",
              "    }\n",
              "\n",
              "    .dataframe tbody tr th {\n",
              "        vertical-align: top;\n",
              "    }\n",
              "\n",
              "    .dataframe thead th {\n",
              "        text-align: right;\n",
              "    }\n",
              "</style>\n",
              "<table border=\"1\" class=\"dataframe\">\n",
              "  <thead>\n",
              "    <tr style=\"text-align: right;\">\n",
              "      <th></th>\n",
              "      <th>c</th>\n",
              "      <th>a</th>\n",
              "      <th>t</th>\n",
              "    </tr>\n",
              "  </thead>\n",
              "  <tbody>\n",
              "    <tr>\n",
              "      <th>2022-10-05</th>\n",
              "      <td>1.898311</td>\n",
              "      <td>-1.121081</td>\n",
              "      <td>2.039884</td>\n",
              "    </tr>\n",
              "    <tr>\n",
              "      <th>2022-10-10</th>\n",
              "      <td>0.380855</td>\n",
              "      <td>-0.971559</td>\n",
              "      <td>-0.856660</td>\n",
              "    </tr>\n",
              "    <tr>\n",
              "      <th>2022-10-04</th>\n",
              "      <td>1.049436</td>\n",
              "      <td>-0.437048</td>\n",
              "      <td>-2.045406</td>\n",
              "    </tr>\n",
              "    <tr>\n",
              "      <th>2022-10-08</th>\n",
              "      <td>-1.418966</td>\n",
              "      <td>-0.161707</td>\n",
              "      <td>0.343028</td>\n",
              "    </tr>\n",
              "    <tr>\n",
              "      <th>2022-10-11</th>\n",
              "      <td>-0.626967</td>\n",
              "      <td>0.027880</td>\n",
              "      <td>0.014861</td>\n",
              "    </tr>\n",
              "    <tr>\n",
              "      <th>2022-10-03</th>\n",
              "      <td>-0.521404</td>\n",
              "      <td>0.103158</td>\n",
              "      <td>-0.067440</td>\n",
              "    </tr>\n",
              "    <tr>\n",
              "      <th>2022-10-06</th>\n",
              "      <td>1.176737</td>\n",
              "      <td>0.421491</td>\n",
              "      <td>1.421084</td>\n",
              "    </tr>\n",
              "    <tr>\n",
              "      <th>2022-10-09</th>\n",
              "      <td>-0.175687</td>\n",
              "      <td>0.789459</td>\n",
              "      <td>0.682181</td>\n",
              "    </tr>\n",
              "    <tr>\n",
              "      <th>2022-10-02</th>\n",
              "      <td>0.881703</td>\n",
              "      <td>0.821323</td>\n",
              "      <td>-0.971782</td>\n",
              "    </tr>\n",
              "    <tr>\n",
              "      <th>2022-10-07</th>\n",
              "      <td>-0.630086</td>\n",
              "      <td>1.472090</td>\n",
              "      <td>-0.191784</td>\n",
              "    </tr>\n",
              "  </tbody>\n",
              "</table>\n",
              "</div>"
            ],
            "text/plain": [
              "                   c         a         t\n",
              "2022-10-05  1.898311 -1.121081  2.039884\n",
              "2022-10-10  0.380855 -0.971559 -0.856660\n",
              "2022-10-04  1.049436 -0.437048 -2.045406\n",
              "2022-10-08 -1.418966 -0.161707  0.343028\n",
              "2022-10-11 -0.626967  0.027880  0.014861\n",
              "2022-10-03 -0.521404  0.103158 -0.067440\n",
              "2022-10-06  1.176737  0.421491  1.421084\n",
              "2022-10-09 -0.175687  0.789459  0.682181\n",
              "2022-10-02  0.881703  0.821323 -0.971782\n",
              "2022-10-07 -0.630086  1.472090 -0.191784"
            ]
          },
          "execution_count": 33,
          "metadata": {},
          "output_type": "execute_result"
        }
      ],
      "source": [
        "df.sort_values(by=\"a\")\n"
      ]
    },
    {
      "cell_type": "code",
      "execution_count": null,
      "id": "97dbf0ef-36e3-4427-9582-bade58468af3",
      "metadata": {
        "id": "97dbf0ef-36e3-4427-9582-bade58468af3",
        "outputId": "28da7ef1-b787-45a0-b6cf-b6a8e84573d0"
      },
      "outputs": [
        {
          "data": {
            "text/html": [
              "<div>\n",
              "<style scoped>\n",
              "    .dataframe tbody tr th:only-of-type {\n",
              "        vertical-align: middle;\n",
              "    }\n",
              "\n",
              "    .dataframe tbody tr th {\n",
              "        vertical-align: top;\n",
              "    }\n",
              "\n",
              "    .dataframe thead th {\n",
              "        text-align: right;\n",
              "    }\n",
              "</style>\n",
              "<table border=\"1\" class=\"dataframe\">\n",
              "  <thead>\n",
              "    <tr style=\"text-align: right;\">\n",
              "      <th></th>\n",
              "      <th>c</th>\n",
              "      <th>a</th>\n",
              "      <th>t</th>\n",
              "    </tr>\n",
              "  </thead>\n",
              "  <tbody>\n",
              "    <tr>\n",
              "      <th>2022-10-04</th>\n",
              "      <td>1.049436</td>\n",
              "      <td>-0.437048</td>\n",
              "      <td>-2.045406</td>\n",
              "    </tr>\n",
              "    <tr>\n",
              "      <th>2022-10-02</th>\n",
              "      <td>0.881703</td>\n",
              "      <td>0.821323</td>\n",
              "      <td>-0.971782</td>\n",
              "    </tr>\n",
              "    <tr>\n",
              "      <th>2022-10-10</th>\n",
              "      <td>0.380855</td>\n",
              "      <td>-0.971559</td>\n",
              "      <td>-0.856660</td>\n",
              "    </tr>\n",
              "    <tr>\n",
              "      <th>2022-10-07</th>\n",
              "      <td>-0.630086</td>\n",
              "      <td>1.472090</td>\n",
              "      <td>-0.191784</td>\n",
              "    </tr>\n",
              "    <tr>\n",
              "      <th>2022-10-03</th>\n",
              "      <td>-0.521404</td>\n",
              "      <td>0.103158</td>\n",
              "      <td>-0.067440</td>\n",
              "    </tr>\n",
              "    <tr>\n",
              "      <th>2022-10-11</th>\n",
              "      <td>-0.626967</td>\n",
              "      <td>0.027880</td>\n",
              "      <td>0.014861</td>\n",
              "    </tr>\n",
              "    <tr>\n",
              "      <th>2022-10-08</th>\n",
              "      <td>-1.418966</td>\n",
              "      <td>-0.161707</td>\n",
              "      <td>0.343028</td>\n",
              "    </tr>\n",
              "    <tr>\n",
              "      <th>2022-10-09</th>\n",
              "      <td>-0.175687</td>\n",
              "      <td>0.789459</td>\n",
              "      <td>0.682181</td>\n",
              "    </tr>\n",
              "    <tr>\n",
              "      <th>2022-10-06</th>\n",
              "      <td>1.176737</td>\n",
              "      <td>0.421491</td>\n",
              "      <td>1.421084</td>\n",
              "    </tr>\n",
              "    <tr>\n",
              "      <th>2022-10-05</th>\n",
              "      <td>1.898311</td>\n",
              "      <td>-1.121081</td>\n",
              "      <td>2.039884</td>\n",
              "    </tr>\n",
              "  </tbody>\n",
              "</table>\n",
              "</div>"
            ],
            "text/plain": [
              "                   c         a         t\n",
              "2022-10-04  1.049436 -0.437048 -2.045406\n",
              "2022-10-02  0.881703  0.821323 -0.971782\n",
              "2022-10-10  0.380855 -0.971559 -0.856660\n",
              "2022-10-07 -0.630086  1.472090 -0.191784\n",
              "2022-10-03 -0.521404  0.103158 -0.067440\n",
              "2022-10-11 -0.626967  0.027880  0.014861\n",
              "2022-10-08 -1.418966 -0.161707  0.343028\n",
              "2022-10-09 -0.175687  0.789459  0.682181\n",
              "2022-10-06  1.176737  0.421491  1.421084\n",
              "2022-10-05  1.898311 -1.121081  2.039884"
            ]
          },
          "execution_count": 34,
          "metadata": {},
          "output_type": "execute_result"
        }
      ],
      "source": [
        "df.sort_values(by=\"t\") #ordena los elemntos dela columna \"\""
      ]
    },
    {
      "cell_type": "code",
      "execution_count": null,
      "id": "79bcf561-326a-4dec-96e1-33f9fe8ce6de",
      "metadata": {
        "id": "79bcf561-326a-4dec-96e1-33f9fe8ce6de",
        "outputId": "546ad82e-183e-45b0-a2af-ef8032e0d4f7"
      },
      "outputs": [
        {
          "data": {
            "text/plain": [
              "2022-10-02    0.821323\n",
              "2022-10-03    0.103158\n",
              "2022-10-04   -0.437048\n",
              "2022-10-05   -1.121081\n",
              "2022-10-06    0.421491\n",
              "2022-10-07    1.472090\n",
              "2022-10-08   -0.161707\n",
              "2022-10-09    0.789459\n",
              "2022-10-10   -0.971559\n",
              "2022-10-11    0.027880\n",
              "Freq: D, Name: a, dtype: float64"
            ]
          },
          "execution_count": 36,
          "metadata": {},
          "output_type": "execute_result"
        }
      ],
      "source": [
        "df[\"a\"] ##selecciona la columna \"\""
      ]
    },
    {
      "cell_type": "code",
      "execution_count": null,
      "id": "cc9e575d-910c-4901-a70d-536c8e2496bb",
      "metadata": {
        "id": "cc9e575d-910c-4901-a70d-536c8e2496bb",
        "outputId": "24b41be2-6a3b-460d-e0ad-ff48cb582549"
      },
      "outputs": [
        {
          "data": {
            "text/html": [
              "<div>\n",
              "<style scoped>\n",
              "    .dataframe tbody tr th:only-of-type {\n",
              "        vertical-align: middle;\n",
              "    }\n",
              "\n",
              "    .dataframe tbody tr th {\n",
              "        vertical-align: top;\n",
              "    }\n",
              "\n",
              "    .dataframe thead th {\n",
              "        text-align: right;\n",
              "    }\n",
              "</style>\n",
              "<table border=\"1\" class=\"dataframe\">\n",
              "  <thead>\n",
              "    <tr style=\"text-align: right;\">\n",
              "      <th></th>\n",
              "      <th>c</th>\n",
              "      <th>a</th>\n",
              "      <th>t</th>\n",
              "    </tr>\n",
              "  </thead>\n",
              "  <tbody>\n",
              "    <tr>\n",
              "      <th>2022-10-02</th>\n",
              "      <td>0.881703</td>\n",
              "      <td>0.821323</td>\n",
              "      <td>-0.971782</td>\n",
              "    </tr>\n",
              "    <tr>\n",
              "      <th>2022-10-03</th>\n",
              "      <td>-0.521404</td>\n",
              "      <td>0.103158</td>\n",
              "      <td>-0.067440</td>\n",
              "    </tr>\n",
              "    <tr>\n",
              "      <th>2022-10-04</th>\n",
              "      <td>1.049436</td>\n",
              "      <td>-0.437048</td>\n",
              "      <td>-2.045406</td>\n",
              "    </tr>\n",
              "    <tr>\n",
              "      <th>2022-10-05</th>\n",
              "      <td>1.898311</td>\n",
              "      <td>-1.121081</td>\n",
              "      <td>2.039884</td>\n",
              "    </tr>\n",
              "    <tr>\n",
              "      <th>2022-10-06</th>\n",
              "      <td>1.176737</td>\n",
              "      <td>0.421491</td>\n",
              "      <td>1.421084</td>\n",
              "    </tr>\n",
              "  </tbody>\n",
              "</table>\n",
              "</div>"
            ],
            "text/plain": [
              "                   c         a         t\n",
              "2022-10-02  0.881703  0.821323 -0.971782\n",
              "2022-10-03 -0.521404  0.103158 -0.067440\n",
              "2022-10-04  1.049436 -0.437048 -2.045406\n",
              "2022-10-05  1.898311 -1.121081  2.039884\n",
              "2022-10-06  1.176737  0.421491  1.421084"
            ]
          },
          "execution_count": 37,
          "metadata": {},
          "output_type": "execute_result"
        }
      ],
      "source": [
        "df[0:5] #muestra los renglones dentro de las llaves"
      ]
    },
    {
      "cell_type": "code",
      "execution_count": null,
      "id": "b52d6a0e-354c-4317-8fc3-18dd845150ea",
      "metadata": {
        "id": "b52d6a0e-354c-4317-8fc3-18dd845150ea",
        "outputId": "21255f5f-9fd4-4edf-af48-1bd7104e2666"
      },
      "outputs": [
        {
          "data": {
            "text/html": [
              "<div>\n",
              "<style scoped>\n",
              "    .dataframe tbody tr th:only-of-type {\n",
              "        vertical-align: middle;\n",
              "    }\n",
              "\n",
              "    .dataframe tbody tr th {\n",
              "        vertical-align: top;\n",
              "    }\n",
              "\n",
              "    .dataframe thead th {\n",
              "        text-align: right;\n",
              "    }\n",
              "</style>\n",
              "<table border=\"1\" class=\"dataframe\">\n",
              "  <thead>\n",
              "    <tr style=\"text-align: right;\">\n",
              "      <th></th>\n",
              "      <th>c</th>\n",
              "      <th>a</th>\n",
              "      <th>t</th>\n",
              "    </tr>\n",
              "  </thead>\n",
              "  <tbody>\n",
              "    <tr>\n",
              "      <th>2022-10-06</th>\n",
              "      <td>1.176737</td>\n",
              "      <td>0.421491</td>\n",
              "      <td>1.421084</td>\n",
              "    </tr>\n",
              "    <tr>\n",
              "      <th>2022-10-07</th>\n",
              "      <td>-0.630086</td>\n",
              "      <td>1.472090</td>\n",
              "      <td>-0.191784</td>\n",
              "    </tr>\n",
              "    <tr>\n",
              "      <th>2022-10-08</th>\n",
              "      <td>-1.418966</td>\n",
              "      <td>-0.161707</td>\n",
              "      <td>0.343028</td>\n",
              "    </tr>\n",
              "    <tr>\n",
              "      <th>2022-10-09</th>\n",
              "      <td>-0.175687</td>\n",
              "      <td>0.789459</td>\n",
              "      <td>0.682181</td>\n",
              "    </tr>\n",
              "  </tbody>\n",
              "</table>\n",
              "</div>"
            ],
            "text/plain": [
              "                   c         a         t\n",
              "2022-10-06  1.176737  0.421491  1.421084\n",
              "2022-10-07 -0.630086  1.472090 -0.191784\n",
              "2022-10-08 -1.418966 -0.161707  0.343028\n",
              "2022-10-09 -0.175687  0.789459  0.682181"
            ]
          },
          "execution_count": 38,
          "metadata": {},
          "output_type": "execute_result"
        }
      ],
      "source": [
        "df[\"20221006\":\"20221009\"]"
      ]
    },
    {
      "cell_type": "code",
      "execution_count": null,
      "id": "b271e3f6-9a00-4d87-9bb0-ee7c83946ee7",
      "metadata": {
        "id": "b271e3f6-9a00-4d87-9bb0-ee7c83946ee7",
        "outputId": "1ef4518f-bb7c-4eb7-9448-e4dbcf8c2790"
      },
      "outputs": [
        {
          "data": {
            "text/plain": [
              "c    1.049436\n",
              "a   -0.437048\n",
              "t   -2.045406\n",
              "Name: 2022-10-04 00:00:00, dtype: float64"
            ]
          },
          "execution_count": 41,
          "metadata": {},
          "output_type": "execute_result"
        }
      ],
      "source": [
        "df.loc[dates[2]]# selecciona el renglon [dates] de la tabla"
      ]
    },
    {
      "cell_type": "code",
      "execution_count": null,
      "id": "a83d90b5-8f39-4e7a-ab9e-d162f21838b5",
      "metadata": {
        "id": "a83d90b5-8f39-4e7a-ab9e-d162f21838b5",
        "outputId": "f1caff3a-b90c-4613-b4ff-3cd5f76047af"
      },
      "outputs": [
        {
          "data": {
            "text/html": [
              "<div>\n",
              "<style scoped>\n",
              "    .dataframe tbody tr th:only-of-type {\n",
              "        vertical-align: middle;\n",
              "    }\n",
              "\n",
              "    .dataframe tbody tr th {\n",
              "        vertical-align: top;\n",
              "    }\n",
              "\n",
              "    .dataframe thead th {\n",
              "        text-align: right;\n",
              "    }\n",
              "</style>\n",
              "<table border=\"1\" class=\"dataframe\">\n",
              "  <thead>\n",
              "    <tr style=\"text-align: right;\">\n",
              "      <th></th>\n",
              "      <th>t</th>\n",
              "      <th>a</th>\n",
              "    </tr>\n",
              "  </thead>\n",
              "  <tbody>\n",
              "    <tr>\n",
              "      <th>2022-10-02</th>\n",
              "      <td>-0.971782</td>\n",
              "      <td>0.821323</td>\n",
              "    </tr>\n",
              "    <tr>\n",
              "      <th>2022-10-03</th>\n",
              "      <td>-0.067440</td>\n",
              "      <td>0.103158</td>\n",
              "    </tr>\n",
              "    <tr>\n",
              "      <th>2022-10-04</th>\n",
              "      <td>-2.045406</td>\n",
              "      <td>-0.437048</td>\n",
              "    </tr>\n",
              "    <tr>\n",
              "      <th>2022-10-05</th>\n",
              "      <td>2.039884</td>\n",
              "      <td>-1.121081</td>\n",
              "    </tr>\n",
              "    <tr>\n",
              "      <th>2022-10-06</th>\n",
              "      <td>1.421084</td>\n",
              "      <td>0.421491</td>\n",
              "    </tr>\n",
              "    <tr>\n",
              "      <th>2022-10-07</th>\n",
              "      <td>-0.191784</td>\n",
              "      <td>1.472090</td>\n",
              "    </tr>\n",
              "    <tr>\n",
              "      <th>2022-10-08</th>\n",
              "      <td>0.343028</td>\n",
              "      <td>-0.161707</td>\n",
              "    </tr>\n",
              "    <tr>\n",
              "      <th>2022-10-09</th>\n",
              "      <td>0.682181</td>\n",
              "      <td>0.789459</td>\n",
              "    </tr>\n",
              "    <tr>\n",
              "      <th>2022-10-10</th>\n",
              "      <td>-0.856660</td>\n",
              "      <td>-0.971559</td>\n",
              "    </tr>\n",
              "    <tr>\n",
              "      <th>2022-10-11</th>\n",
              "      <td>0.014861</td>\n",
              "      <td>0.027880</td>\n",
              "    </tr>\n",
              "  </tbody>\n",
              "</table>\n",
              "</div>"
            ],
            "text/plain": [
              "                   t         a\n",
              "2022-10-02 -0.971782  0.821323\n",
              "2022-10-03 -0.067440  0.103158\n",
              "2022-10-04 -2.045406 -0.437048\n",
              "2022-10-05  2.039884 -1.121081\n",
              "2022-10-06  1.421084  0.421491\n",
              "2022-10-07 -0.191784  1.472090\n",
              "2022-10-08  0.343028 -0.161707\n",
              "2022-10-09  0.682181  0.789459\n",
              "2022-10-10 -0.856660 -0.971559\n",
              "2022-10-11  0.014861  0.027880"
            ]
          },
          "execution_count": 42,
          "metadata": {},
          "output_type": "execute_result"
        }
      ],
      "source": [
        "df.loc[:, [\"t\", \"a\"]]"
      ]
    },
    {
      "cell_type": "code",
      "execution_count": null,
      "id": "351f87f6-0bb2-427e-bb64-6208bd21ee78",
      "metadata": {
        "id": "351f87f6-0bb2-427e-bb64-6208bd21ee78",
        "outputId": "bb5619e0-5653-4e93-ed01-4bb98cc7c5d0"
      },
      "outputs": [
        {
          "data": {
            "text/html": [
              "<div>\n",
              "<style scoped>\n",
              "    .dataframe tbody tr th:only-of-type {\n",
              "        vertical-align: middle;\n",
              "    }\n",
              "\n",
              "    .dataframe tbody tr th {\n",
              "        vertical-align: top;\n",
              "    }\n",
              "\n",
              "    .dataframe thead th {\n",
              "        text-align: right;\n",
              "    }\n",
              "</style>\n",
              "<table border=\"1\" class=\"dataframe\">\n",
              "  <thead>\n",
              "    <tr style=\"text-align: right;\">\n",
              "      <th></th>\n",
              "      <th>c</th>\n",
              "      <th>t</th>\n",
              "    </tr>\n",
              "  </thead>\n",
              "  <tbody>\n",
              "    <tr>\n",
              "      <th>2022-10-02</th>\n",
              "      <td>0.881703</td>\n",
              "      <td>-0.971782</td>\n",
              "    </tr>\n",
              "    <tr>\n",
              "      <th>2022-10-03</th>\n",
              "      <td>-0.521404</td>\n",
              "      <td>-0.067440</td>\n",
              "    </tr>\n",
              "    <tr>\n",
              "      <th>2022-10-04</th>\n",
              "      <td>1.049436</td>\n",
              "      <td>-2.045406</td>\n",
              "    </tr>\n",
              "  </tbody>\n",
              "</table>\n",
              "</div>"
            ],
            "text/plain": [
              "                   c         t\n",
              "2022-10-02  0.881703 -0.971782\n",
              "2022-10-03 -0.521404 -0.067440\n",
              "2022-10-04  1.049436 -2.045406"
            ]
          },
          "execution_count": 44,
          "metadata": {},
          "output_type": "execute_result"
        }
      ],
      "source": [
        "df.loc[\"20221002\":\"20221004\", [\"c\", \"t\"]]"
      ]
    },
    {
      "cell_type": "code",
      "execution_count": null,
      "id": "5504fece-663c-4285-93d7-b6f1416ecc29",
      "metadata": {
        "id": "5504fece-663c-4285-93d7-b6f1416ecc29",
        "outputId": "b408cca6-6bb8-474f-8712-e83a8018528b"
      },
      "outputs": [
        {
          "data": {
            "text/plain": [
              "c   -0.521404\n",
              "t   -0.067440\n",
              "Name: 2022-10-03 00:00:00, dtype: float64"
            ]
          },
          "execution_count": 45,
          "metadata": {},
          "output_type": "execute_result"
        }
      ],
      "source": [
        "df.loc[\"20221003\", [\"c\", \"t\"]]"
      ]
    },
    {
      "cell_type": "code",
      "execution_count": null,
      "id": "aafc905a-41c4-4b89-86e1-37d7aa334179",
      "metadata": {
        "id": "aafc905a-41c4-4b89-86e1-37d7aa334179",
        "outputId": "8acc5ff8-9364-4231-c59a-f10aff4853ba"
      },
      "outputs": [
        {
          "data": {
            "text/plain": [
              "0.8213226460185832"
            ]
          },
          "execution_count": 46,
          "metadata": {},
          "output_type": "execute_result"
        }
      ],
      "source": [
        "df.loc[dates[0], \"a\"] #me arroja el escalar ubicado en la columna a renglon 0"
      ]
    },
    {
      "cell_type": "code",
      "execution_count": null,
      "id": "f20a2292-4671-4fb6-9cb8-131214fcaf3f",
      "metadata": {
        "id": "f20a2292-4671-4fb6-9cb8-131214fcaf3f",
        "outputId": "dcc000c1-c3e5-4e6d-bbcf-7a74b52a25d9"
      },
      "outputs": [
        {
          "data": {
            "text/plain": [
              "c    1.898311\n",
              "a   -1.121081\n",
              "t    2.039884\n",
              "Name: 2022-10-05 00:00:00, dtype: float64"
            ]
          },
          "execution_count": 47,
          "metadata": {},
          "output_type": "execute_result"
        }
      ],
      "source": [
        "df.iloc[3] #muestra los valores del renglon 3"
      ]
    },
    {
      "cell_type": "code",
      "execution_count": null,
      "id": "1b595b32-2e57-4be4-bcc9-92f9672896ec",
      "metadata": {
        "id": "1b595b32-2e57-4be4-bcc9-92f9672896ec",
        "outputId": "45626a62-debc-4973-b77e-66ef25663a04"
      },
      "outputs": [
        {
          "data": {
            "text/html": [
              "<div>\n",
              "<style scoped>\n",
              "    .dataframe tbody tr th:only-of-type {\n",
              "        vertical-align: middle;\n",
              "    }\n",
              "\n",
              "    .dataframe tbody tr th {\n",
              "        vertical-align: top;\n",
              "    }\n",
              "\n",
              "    .dataframe thead th {\n",
              "        text-align: right;\n",
              "    }\n",
              "</style>\n",
              "<table border=\"1\" class=\"dataframe\">\n",
              "  <thead>\n",
              "    <tr style=\"text-align: right;\">\n",
              "      <th></th>\n",
              "      <th>c</th>\n",
              "      <th>a</th>\n",
              "    </tr>\n",
              "  </thead>\n",
              "  <tbody>\n",
              "    <tr>\n",
              "      <th>2022-10-05</th>\n",
              "      <td>1.898311</td>\n",
              "      <td>-1.121081</td>\n",
              "    </tr>\n",
              "    <tr>\n",
              "      <th>2022-10-06</th>\n",
              "      <td>1.176737</td>\n",
              "      <td>0.421491</td>\n",
              "    </tr>\n",
              "  </tbody>\n",
              "</table>\n",
              "</div>"
            ],
            "text/plain": [
              "                   c         a\n",
              "2022-10-05  1.898311 -1.121081\n",
              "2022-10-06  1.176737  0.421491"
            ]
          },
          "execution_count": 48,
          "metadata": {},
          "output_type": "execute_result"
        }
      ],
      "source": [
        "df.iloc[3:5, 0:2]"
      ]
    },
    {
      "cell_type": "code",
      "execution_count": null,
      "id": "2df0e00b-69b8-4c76-8be0-6c4f5f5e596b",
      "metadata": {
        "id": "2df0e00b-69b8-4c76-8be0-6c4f5f5e596b",
        "outputId": "fc1c34a0-8974-4185-e5f6-4e4e38fc1f1d"
      },
      "outputs": [
        {
          "data": {
            "text/html": [
              "<div>\n",
              "<style scoped>\n",
              "    .dataframe tbody tr th:only-of-type {\n",
              "        vertical-align: middle;\n",
              "    }\n",
              "\n",
              "    .dataframe tbody tr th {\n",
              "        vertical-align: top;\n",
              "    }\n",
              "\n",
              "    .dataframe thead th {\n",
              "        text-align: right;\n",
              "    }\n",
              "</style>\n",
              "<table border=\"1\" class=\"dataframe\">\n",
              "  <thead>\n",
              "    <tr style=\"text-align: right;\">\n",
              "      <th></th>\n",
              "      <th>c</th>\n",
              "      <th>a</th>\n",
              "    </tr>\n",
              "  </thead>\n",
              "  <tbody>\n",
              "    <tr>\n",
              "      <th>2022-10-02</th>\n",
              "      <td>0.881703</td>\n",
              "      <td>0.821323</td>\n",
              "    </tr>\n",
              "    <tr>\n",
              "      <th>2022-10-08</th>\n",
              "      <td>-1.418966</td>\n",
              "      <td>-0.161707</td>\n",
              "    </tr>\n",
              "  </tbody>\n",
              "</table>\n",
              "</div>"
            ],
            "text/plain": [
              "                   c         a\n",
              "2022-10-02  0.881703  0.821323\n",
              "2022-10-08 -1.418966 -0.161707"
            ]
          },
          "execution_count": 61,
          "metadata": {},
          "output_type": "execute_result"
        }
      ],
      "source": [
        "df.iloc[[0,6], [0,1]] #me muestra los datos de los renglones [*,*], de las columnas en el intervalo de 0 al 2"
      ]
    },
    {
      "cell_type": "code",
      "execution_count": null,
      "id": "cbcbde0d-a173-4c3e-983f-782d833e3443",
      "metadata": {
        "id": "cbcbde0d-a173-4c3e-983f-782d833e3443",
        "outputId": "67571ffc-7a31-422d-a39f-9beb909ca34a"
      },
      "outputs": [
        {
          "name": "stdout",
          "output_type": "stream",
          "text": [
            "(10, 3)\n"
          ]
        }
      ],
      "source": [
        "arr = np.array(df) #me da el tamaño del arreglo \n",
        "\n",
        "print(np.shape(arr))"
      ]
    },
    {
      "cell_type": "code",
      "execution_count": null,
      "id": "b6b6d01b-4b4b-454c-ac1e-0482c4cda164",
      "metadata": {
        "id": "b6b6d01b-4b4b-454c-ac1e-0482c4cda164",
        "outputId": "bc71070a-b690-4ae4-f46d-e8f706486172"
      },
      "outputs": [
        {
          "data": {
            "text/html": [
              "<div>\n",
              "<style scoped>\n",
              "    .dataframe tbody tr th:only-of-type {\n",
              "        vertical-align: middle;\n",
              "    }\n",
              "\n",
              "    .dataframe tbody tr th {\n",
              "        vertical-align: top;\n",
              "    }\n",
              "\n",
              "    .dataframe thead th {\n",
              "        text-align: right;\n",
              "    }\n",
              "</style>\n",
              "<table border=\"1\" class=\"dataframe\">\n",
              "  <thead>\n",
              "    <tr style=\"text-align: right;\">\n",
              "      <th></th>\n",
              "      <th>c</th>\n",
              "      <th>a</th>\n",
              "      <th>t</th>\n",
              "    </tr>\n",
              "  </thead>\n",
              "  <tbody>\n",
              "    <tr>\n",
              "      <th>2022-10-03</th>\n",
              "      <td>-0.521404</td>\n",
              "      <td>0.103158</td>\n",
              "      <td>-0.067440</td>\n",
              "    </tr>\n",
              "    <tr>\n",
              "      <th>2022-10-04</th>\n",
              "      <td>1.049436</td>\n",
              "      <td>-0.437048</td>\n",
              "      <td>-2.045406</td>\n",
              "    </tr>\n",
              "  </tbody>\n",
              "</table>\n",
              "</div>"
            ],
            "text/plain": [
              "                   c         a         t\n",
              "2022-10-03 -0.521404  0.103158 -0.067440\n",
              "2022-10-04  1.049436 -0.437048 -2.045406"
            ]
          },
          "execution_count": 62,
          "metadata": {},
          "output_type": "execute_result"
        }
      ],
      "source": [
        "df.iloc[1:3, :] #me muestra los renglones 1 y3 de todas las columnas"
      ]
    },
    {
      "cell_type": "code",
      "execution_count": null,
      "id": "cf8ef720-519d-42da-92c1-e56f9ddccf44",
      "metadata": {
        "id": "cf8ef720-519d-42da-92c1-e56f9ddccf44",
        "outputId": "8ed8c4a1-fdc4-47d4-fd16-1d66c5f2e8ea"
      },
      "outputs": [
        {
          "data": {
            "text/plain": [
              "0.10315845829941662"
            ]
          },
          "execution_count": 63,
          "metadata": {},
          "output_type": "execute_result"
        }
      ],
      "source": [
        "df.iloc[1, 1] # me arroja el elmento 1,1 del arreglo"
      ]
    },
    {
      "cell_type": "code",
      "execution_count": null,
      "id": "4a3edd91-6246-496c-a698-987daabfaca3",
      "metadata": {
        "id": "4a3edd91-6246-496c-a698-987daabfaca3",
        "outputId": "007a05a4-ce98-4e9f-cc97-1f08f0388bd1"
      },
      "outputs": [
        {
          "data": {
            "text/html": [
              "<div>\n",
              "<style scoped>\n",
              "    .dataframe tbody tr th:only-of-type {\n",
              "        vertical-align: middle;\n",
              "    }\n",
              "\n",
              "    .dataframe tbody tr th {\n",
              "        vertical-align: top;\n",
              "    }\n",
              "\n",
              "    .dataframe thead th {\n",
              "        text-align: right;\n",
              "    }\n",
              "</style>\n",
              "<table border=\"1\" class=\"dataframe\">\n",
              "  <thead>\n",
              "    <tr style=\"text-align: right;\">\n",
              "      <th></th>\n",
              "      <th>c</th>\n",
              "      <th>a</th>\n",
              "      <th>t</th>\n",
              "    </tr>\n",
              "  </thead>\n",
              "  <tbody>\n",
              "    <tr>\n",
              "      <th>2022-10-02</th>\n",
              "      <td>0.881703</td>\n",
              "      <td>0.821323</td>\n",
              "      <td>-0.971782</td>\n",
              "    </tr>\n",
              "    <tr>\n",
              "      <th>2022-10-04</th>\n",
              "      <td>1.049436</td>\n",
              "      <td>-0.437048</td>\n",
              "      <td>-2.045406</td>\n",
              "    </tr>\n",
              "    <tr>\n",
              "      <th>2022-10-05</th>\n",
              "      <td>1.898311</td>\n",
              "      <td>-1.121081</td>\n",
              "      <td>2.039884</td>\n",
              "    </tr>\n",
              "    <tr>\n",
              "      <th>2022-10-06</th>\n",
              "      <td>1.176737</td>\n",
              "      <td>0.421491</td>\n",
              "      <td>1.421084</td>\n",
              "    </tr>\n",
              "    <tr>\n",
              "      <th>2022-10-10</th>\n",
              "      <td>0.380855</td>\n",
              "      <td>-0.971559</td>\n",
              "      <td>-0.856660</td>\n",
              "    </tr>\n",
              "  </tbody>\n",
              "</table>\n",
              "</div>"
            ],
            "text/plain": [
              "                   c         a         t\n",
              "2022-10-02  0.881703  0.821323 -0.971782\n",
              "2022-10-04  1.049436 -0.437048 -2.045406\n",
              "2022-10-05  1.898311 -1.121081  2.039884\n",
              "2022-10-06  1.176737  0.421491  1.421084\n",
              "2022-10-10  0.380855 -0.971559 -0.856660"
            ]
          },
          "execution_count": 64,
          "metadata": {},
          "output_type": "execute_result"
        }
      ],
      "source": [
        "df[df[\"c\"] > 0] #me muestra los valores mayores que cero de la columna c y las demas los deja igual"
      ]
    },
    {
      "cell_type": "code",
      "execution_count": null,
      "id": "c7a21732-23b8-49a7-af34-c1cdaaa93413",
      "metadata": {
        "id": "c7a21732-23b8-49a7-af34-c1cdaaa93413",
        "outputId": "c2c4788a-f734-442f-ee04-52abffb82b12"
      },
      "outputs": [
        {
          "data": {
            "text/html": [
              "<div>\n",
              "<style scoped>\n",
              "    .dataframe tbody tr th:only-of-type {\n",
              "        vertical-align: middle;\n",
              "    }\n",
              "\n",
              "    .dataframe tbody tr th {\n",
              "        vertical-align: top;\n",
              "    }\n",
              "\n",
              "    .dataframe thead th {\n",
              "        text-align: right;\n",
              "    }\n",
              "</style>\n",
              "<table border=\"1\" class=\"dataframe\">\n",
              "  <thead>\n",
              "    <tr style=\"text-align: right;\">\n",
              "      <th></th>\n",
              "      <th>c</th>\n",
              "      <th>a</th>\n",
              "      <th>t</th>\n",
              "    </tr>\n",
              "  </thead>\n",
              "  <tbody>\n",
              "    <tr>\n",
              "      <th>2022-10-02</th>\n",
              "      <td>0.881703</td>\n",
              "      <td>0.821323</td>\n",
              "      <td>NaN</td>\n",
              "    </tr>\n",
              "    <tr>\n",
              "      <th>2022-10-03</th>\n",
              "      <td>NaN</td>\n",
              "      <td>0.103158</td>\n",
              "      <td>NaN</td>\n",
              "    </tr>\n",
              "    <tr>\n",
              "      <th>2022-10-04</th>\n",
              "      <td>1.049436</td>\n",
              "      <td>NaN</td>\n",
              "      <td>NaN</td>\n",
              "    </tr>\n",
              "    <tr>\n",
              "      <th>2022-10-05</th>\n",
              "      <td>1.898311</td>\n",
              "      <td>NaN</td>\n",
              "      <td>2.039884</td>\n",
              "    </tr>\n",
              "    <tr>\n",
              "      <th>2022-10-06</th>\n",
              "      <td>1.176737</td>\n",
              "      <td>0.421491</td>\n",
              "      <td>1.421084</td>\n",
              "    </tr>\n",
              "    <tr>\n",
              "      <th>2022-10-07</th>\n",
              "      <td>NaN</td>\n",
              "      <td>1.472090</td>\n",
              "      <td>NaN</td>\n",
              "    </tr>\n",
              "    <tr>\n",
              "      <th>2022-10-08</th>\n",
              "      <td>NaN</td>\n",
              "      <td>NaN</td>\n",
              "      <td>0.343028</td>\n",
              "    </tr>\n",
              "    <tr>\n",
              "      <th>2022-10-09</th>\n",
              "      <td>NaN</td>\n",
              "      <td>0.789459</td>\n",
              "      <td>0.682181</td>\n",
              "    </tr>\n",
              "    <tr>\n",
              "      <th>2022-10-10</th>\n",
              "      <td>0.380855</td>\n",
              "      <td>NaN</td>\n",
              "      <td>NaN</td>\n",
              "    </tr>\n",
              "    <tr>\n",
              "      <th>2022-10-11</th>\n",
              "      <td>NaN</td>\n",
              "      <td>0.027880</td>\n",
              "      <td>0.014861</td>\n",
              "    </tr>\n",
              "  </tbody>\n",
              "</table>\n",
              "</div>"
            ],
            "text/plain": [
              "                   c         a         t\n",
              "2022-10-02  0.881703  0.821323       NaN\n",
              "2022-10-03       NaN  0.103158       NaN\n",
              "2022-10-04  1.049436       NaN       NaN\n",
              "2022-10-05  1.898311       NaN  2.039884\n",
              "2022-10-06  1.176737  0.421491  1.421084\n",
              "2022-10-07       NaN  1.472090       NaN\n",
              "2022-10-08       NaN       NaN  0.343028\n",
              "2022-10-09       NaN  0.789459  0.682181\n",
              "2022-10-10  0.380855       NaN       NaN\n",
              "2022-10-11       NaN  0.027880  0.014861"
            ]
          },
          "execution_count": 67,
          "metadata": {},
          "output_type": "execute_result"
        }
      ],
      "source": [
        "df[df > 0] #muestra solo los valores mayores que cero "
      ]
    },
    {
      "cell_type": "code",
      "execution_count": null,
      "id": "5bf95a79-0776-4041-a4fd-2b61fc051db9",
      "metadata": {
        "id": "5bf95a79-0776-4041-a4fd-2b61fc051db9",
        "outputId": "7f1e51ca-4e5f-4e12-fb9d-81dd8a09ca03"
      },
      "outputs": [
        {
          "data": {
            "text/html": [
              "<div>\n",
              "<style scoped>\n",
              "    .dataframe tbody tr th:only-of-type {\n",
              "        vertical-align: middle;\n",
              "    }\n",
              "\n",
              "    .dataframe tbody tr th {\n",
              "        vertical-align: top;\n",
              "    }\n",
              "\n",
              "    .dataframe thead th {\n",
              "        text-align: right;\n",
              "    }\n",
              "</style>\n",
              "<table border=\"1\" class=\"dataframe\">\n",
              "  <thead>\n",
              "    <tr style=\"text-align: right;\">\n",
              "      <th></th>\n",
              "      <th>c</th>\n",
              "      <th>a</th>\n",
              "      <th>t</th>\n",
              "    </tr>\n",
              "  </thead>\n",
              "  <tbody>\n",
              "    <tr>\n",
              "      <th>2022-10-02</th>\n",
              "      <td>0.881703</td>\n",
              "      <td>cat1</td>\n",
              "      <td>-0.971782</td>\n",
              "    </tr>\n",
              "    <tr>\n",
              "      <th>2022-10-03</th>\n",
              "      <td>-0.521404</td>\n",
              "      <td>cocosas</td>\n",
              "      <td>-0.067440</td>\n",
              "    </tr>\n",
              "    <tr>\n",
              "      <th>2022-10-04</th>\n",
              "      <td>1.049436</td>\n",
              "      <td>jose</td>\n",
              "      <td>-2.045406</td>\n",
              "    </tr>\n",
              "    <tr>\n",
              "      <th>2022-10-05</th>\n",
              "      <td>1.898311</td>\n",
              "      <td>Antonia</td>\n",
              "      <td>2.039884</td>\n",
              "    </tr>\n",
              "    <tr>\n",
              "      <th>2022-10-06</th>\n",
              "      <td>1.176737</td>\n",
              "      <td>nené</td>\n",
              "      <td>1.421084</td>\n",
              "    </tr>\n",
              "    <tr>\n",
              "      <th>2022-10-07</th>\n",
              "      <td>-0.630086</td>\n",
              "      <td>pilla</td>\n",
              "      <td>-0.191784</td>\n",
              "    </tr>\n",
              "    <tr>\n",
              "      <th>2022-10-08</th>\n",
              "      <td>-1.418966</td>\n",
              "      <td>teresito</td>\n",
              "      <td>0.343028</td>\n",
              "    </tr>\n",
              "    <tr>\n",
              "      <th>2022-10-09</th>\n",
              "      <td>-0.175687</td>\n",
              "      <td>princesa</td>\n",
              "      <td>0.682181</td>\n",
              "    </tr>\n",
              "    <tr>\n",
              "      <th>2022-10-10</th>\n",
              "      <td>0.380855</td>\n",
              "      <td>sandro</td>\n",
              "      <td>-0.856660</td>\n",
              "    </tr>\n",
              "    <tr>\n",
              "      <th>2022-10-11</th>\n",
              "      <td>-0.626967</td>\n",
              "      <td>silvio</td>\n",
              "      <td>0.014861</td>\n",
              "    </tr>\n",
              "  </tbody>\n",
              "</table>\n",
              "</div>"
            ],
            "text/plain": [
              "                   c         a         t\n",
              "2022-10-02  0.881703      cat1 -0.971782\n",
              "2022-10-03 -0.521404   cocosas -0.067440\n",
              "2022-10-04  1.049436      jose -2.045406\n",
              "2022-10-05  1.898311   Antonia  2.039884\n",
              "2022-10-06  1.176737      nené  1.421084\n",
              "2022-10-07 -0.630086     pilla -0.191784\n",
              "2022-10-08 -1.418966  teresito  0.343028\n",
              "2022-10-09 -0.175687  princesa  0.682181\n",
              "2022-10-10  0.380855    sandro -0.856660\n",
              "2022-10-11 -0.626967    silvio  0.014861"
            ]
          },
          "execution_count": 68,
          "metadata": {},
          "output_type": "execute_result"
        }
      ],
      "source": [
        "df2=df.copy()\n",
        "df2[\"a\"]=[\"cat1\", \"cocosas\", \"jose\", \"Antonia\", \"nené\", \"pilla\", \"teresito\", \"princesa\", \"sandro\", \"silvio\"]\n",
        "df2 #sustituye los valores de lla columna \"a\""
      ]
    },
    {
      "cell_type": "code",
      "execution_count": null,
      "id": "02fb4ab0-923e-4793-bdc9-8400ca97d350",
      "metadata": {
        "id": "02fb4ab0-923e-4793-bdc9-8400ca97d350",
        "outputId": "a5314b8e-8c8a-48c2-a517-8dfc75e80a91"
      },
      "outputs": [
        {
          "data": {
            "text/html": [
              "<div>\n",
              "<style scoped>\n",
              "    .dataframe tbody tr th:only-of-type {\n",
              "        vertical-align: middle;\n",
              "    }\n",
              "\n",
              "    .dataframe tbody tr th {\n",
              "        vertical-align: top;\n",
              "    }\n",
              "\n",
              "    .dataframe thead th {\n",
              "        text-align: right;\n",
              "    }\n",
              "</style>\n",
              "<table border=\"1\" class=\"dataframe\">\n",
              "  <thead>\n",
              "    <tr style=\"text-align: right;\">\n",
              "      <th></th>\n",
              "      <th>c</th>\n",
              "      <th>a</th>\n",
              "      <th>t</th>\n",
              "    </tr>\n",
              "  </thead>\n",
              "  <tbody>\n",
              "    <tr>\n",
              "      <th>2022-10-06</th>\n",
              "      <td>1.176737</td>\n",
              "      <td>nené</td>\n",
              "      <td>1.421084</td>\n",
              "    </tr>\n",
              "    <tr>\n",
              "      <th>2022-10-10</th>\n",
              "      <td>0.380855</td>\n",
              "      <td>sandro</td>\n",
              "      <td>-0.856660</td>\n",
              "    </tr>\n",
              "  </tbody>\n",
              "</table>\n",
              "</div>"
            ],
            "text/plain": [
              "                   c       a         t\n",
              "2022-10-06  1.176737    nené  1.421084\n",
              "2022-10-10  0.380855  sandro -0.856660"
            ]
          },
          "execution_count": 72,
          "metadata": {},
          "output_type": "execute_result"
        }
      ],
      "source": [
        "df2[df2[\"a\"].isin([\"nené\", \"sandro\"])] #devuelve la serie booleana q coincide con los elemntos nombrados"
      ]
    },
    {
      "cell_type": "code",
      "execution_count": null,
      "id": "980b5bd6-6fdc-4267-998d-b1adaaa188e7",
      "metadata": {
        "id": "980b5bd6-6fdc-4267-998d-b1adaaa188e7",
        "outputId": "3c85fa44-3299-4d8e-d8a6-d4ad0665c2d8"
      },
      "outputs": [
        {
          "data": {
            "text/html": [
              "<div>\n",
              "<style scoped>\n",
              "    .dataframe tbody tr th:only-of-type {\n",
              "        vertical-align: middle;\n",
              "    }\n",
              "\n",
              "    .dataframe tbody tr th {\n",
              "        vertical-align: top;\n",
              "    }\n",
              "\n",
              "    .dataframe thead th {\n",
              "        text-align: right;\n",
              "    }\n",
              "</style>\n",
              "<table border=\"1\" class=\"dataframe\">\n",
              "  <thead>\n",
              "    <tr style=\"text-align: right;\">\n",
              "      <th></th>\n",
              "      <th>c</th>\n",
              "      <th>a</th>\n",
              "      <th>t</th>\n",
              "      <th>s</th>\n",
              "      <th>D</th>\n",
              "    </tr>\n",
              "  </thead>\n",
              "  <tbody>\n",
              "    <tr>\n",
              "      <th>2022-10-02</th>\n",
              "      <td>0.881703</td>\n",
              "      <td>0.000000</td>\n",
              "      <td>-0.971782</td>\n",
              "      <td>NaN</td>\n",
              "      <td>5</td>\n",
              "    </tr>\n",
              "    <tr>\n",
              "      <th>2022-10-03</th>\n",
              "      <td>-0.521404</td>\n",
              "      <td>0.103158</td>\n",
              "      <td>-0.067440</td>\n",
              "      <td>NaN</td>\n",
              "      <td>5</td>\n",
              "    </tr>\n",
              "    <tr>\n",
              "      <th>2022-10-04</th>\n",
              "      <td>1.049436</td>\n",
              "      <td>-0.437048</td>\n",
              "      <td>-2.045406</td>\n",
              "      <td>NaN</td>\n",
              "      <td>5</td>\n",
              "    </tr>\n",
              "    <tr>\n",
              "      <th>2022-10-05</th>\n",
              "      <td>1.898311</td>\n",
              "      <td>-1.121081</td>\n",
              "      <td>2.039884</td>\n",
              "      <td>NaN</td>\n",
              "      <td>5</td>\n",
              "    </tr>\n",
              "    <tr>\n",
              "      <th>2022-10-06</th>\n",
              "      <td>1.176737</td>\n",
              "      <td>0.421491</td>\n",
              "      <td>1.421084</td>\n",
              "      <td>NaN</td>\n",
              "      <td>5</td>\n",
              "    </tr>\n",
              "    <tr>\n",
              "      <th>2022-10-07</th>\n",
              "      <td>-0.630086</td>\n",
              "      <td>1.472090</td>\n",
              "      <td>-0.191784</td>\n",
              "      <td>NaN</td>\n",
              "      <td>5</td>\n",
              "    </tr>\n",
              "    <tr>\n",
              "      <th>2022-10-08</th>\n",
              "      <td>-1.418966</td>\n",
              "      <td>-0.161707</td>\n",
              "      <td>0.343028</td>\n",
              "      <td>NaN</td>\n",
              "      <td>5</td>\n",
              "    </tr>\n",
              "    <tr>\n",
              "      <th>2022-10-09</th>\n",
              "      <td>-0.175687</td>\n",
              "      <td>0.789459</td>\n",
              "      <td>0.682181</td>\n",
              "      <td>NaN</td>\n",
              "      <td>5</td>\n",
              "    </tr>\n",
              "    <tr>\n",
              "      <th>2022-10-10</th>\n",
              "      <td>0.380855</td>\n",
              "      <td>-0.971559</td>\n",
              "      <td>-0.856660</td>\n",
              "      <td>NaN</td>\n",
              "      <td>5</td>\n",
              "    </tr>\n",
              "    <tr>\n",
              "      <th>2022-10-11</th>\n",
              "      <td>-0.626967</td>\n",
              "      <td>0.027880</td>\n",
              "      <td>0.014861</td>\n",
              "      <td>NaN</td>\n",
              "      <td>5</td>\n",
              "    </tr>\n",
              "  </tbody>\n",
              "</table>\n",
              "</div>"
            ],
            "text/plain": [
              "                   c         a         t    s  D\n",
              "2022-10-02  0.881703  0.000000 -0.971782  NaN  5\n",
              "2022-10-03 -0.521404  0.103158 -0.067440  NaN  5\n",
              "2022-10-04  1.049436 -0.437048 -2.045406  NaN  5\n",
              "2022-10-05  1.898311 -1.121081  2.039884  NaN  5\n",
              "2022-10-06  1.176737  0.421491  1.421084  NaN  5\n",
              "2022-10-07 -0.630086  1.472090 -0.191784  NaN  5\n",
              "2022-10-08 -1.418966 -0.161707  0.343028  NaN  5\n",
              "2022-10-09 -0.175687  0.789459  0.682181  NaN  5\n",
              "2022-10-10  0.380855 -0.971559 -0.856660  NaN  5\n",
              "2022-10-11 -0.626967  0.027880  0.014861  NaN  5"
            ]
          },
          "execution_count": 90,
          "metadata": {},
          "output_type": "execute_result"
        }
      ],
      "source": [
        "s1= pd.Series([\"cat1\", \"cocosas\", \"jose\", \"Antonia\", \"nené\", \"pilla\", \"teresito\", \"princesa\", \"sandro\", \"silvio\"], index=pd.date_range(\"20220102\", periods=10))\n",
        "s1 # coloca una nueva columna y aliena los datos  por indices\n",
        "df[\"s\"]=s1\n",
        "df"
      ]
    },
    {
      "cell_type": "code",
      "execution_count": null,
      "id": "9d7c7d73-a869-4bd6-898e-4d5b14ee6dd3",
      "metadata": {
        "id": "9d7c7d73-a869-4bd6-898e-4d5b14ee6dd3",
        "outputId": "cf0a65be-0af5-48fb-db16-85224a62ba64"
      },
      "outputs": [
        {
          "data": {
            "text/html": [
              "<div>\n",
              "<style scoped>\n",
              "    .dataframe tbody tr th:only-of-type {\n",
              "        vertical-align: middle;\n",
              "    }\n",
              "\n",
              "    .dataframe tbody tr th {\n",
              "        vertical-align: top;\n",
              "    }\n",
              "\n",
              "    .dataframe thead th {\n",
              "        text-align: right;\n",
              "    }\n",
              "</style>\n",
              "<table border=\"1\" class=\"dataframe\">\n",
              "  <thead>\n",
              "    <tr style=\"text-align: right;\">\n",
              "      <th></th>\n",
              "      <th>c</th>\n",
              "      <th>a</th>\n",
              "      <th>t</th>\n",
              "      <th>s</th>\n",
              "    </tr>\n",
              "  </thead>\n",
              "  <tbody>\n",
              "    <tr>\n",
              "      <th>2022-10-02</th>\n",
              "      <td>0.881703</td>\n",
              "      <td>0.821323</td>\n",
              "      <td>-0.971782</td>\n",
              "      <td>NaN</td>\n",
              "    </tr>\n",
              "    <tr>\n",
              "      <th>2022-10-03</th>\n",
              "      <td>-0.521404</td>\n",
              "      <td>0.103158</td>\n",
              "      <td>-0.067440</td>\n",
              "      <td>NaN</td>\n",
              "    </tr>\n",
              "    <tr>\n",
              "      <th>2022-10-04</th>\n",
              "      <td>1.049436</td>\n",
              "      <td>-0.437048</td>\n",
              "      <td>-2.045406</td>\n",
              "      <td>NaN</td>\n",
              "    </tr>\n",
              "    <tr>\n",
              "      <th>2022-10-05</th>\n",
              "      <td>1.898311</td>\n",
              "      <td>-1.121081</td>\n",
              "      <td>2.039884</td>\n",
              "      <td>NaN</td>\n",
              "    </tr>\n",
              "    <tr>\n",
              "      <th>2022-10-06</th>\n",
              "      <td>1.176737</td>\n",
              "      <td>0.421491</td>\n",
              "      <td>1.421084</td>\n",
              "      <td>NaN</td>\n",
              "    </tr>\n",
              "    <tr>\n",
              "      <th>2022-10-07</th>\n",
              "      <td>-0.630086</td>\n",
              "      <td>1.472090</td>\n",
              "      <td>-0.191784</td>\n",
              "      <td>NaN</td>\n",
              "    </tr>\n",
              "    <tr>\n",
              "      <th>2022-10-08</th>\n",
              "      <td>-1.418966</td>\n",
              "      <td>-0.161707</td>\n",
              "      <td>0.343028</td>\n",
              "      <td>NaN</td>\n",
              "    </tr>\n",
              "    <tr>\n",
              "      <th>2022-10-09</th>\n",
              "      <td>-0.175687</td>\n",
              "      <td>0.789459</td>\n",
              "      <td>0.682181</td>\n",
              "      <td>NaN</td>\n",
              "    </tr>\n",
              "    <tr>\n",
              "      <th>2022-10-10</th>\n",
              "      <td>0.380855</td>\n",
              "      <td>-0.971559</td>\n",
              "      <td>-0.856660</td>\n",
              "      <td>NaN</td>\n",
              "    </tr>\n",
              "    <tr>\n",
              "      <th>2022-10-11</th>\n",
              "      <td>-0.626967</td>\n",
              "      <td>0.027880</td>\n",
              "      <td>0.014861</td>\n",
              "      <td>NaN</td>\n",
              "    </tr>\n",
              "  </tbody>\n",
              "</table>\n",
              "</div>"
            ],
            "text/plain": [
              "                   c         a         t    s\n",
              "2022-10-02  0.881703  0.821323 -0.971782  NaN\n",
              "2022-10-03 -0.521404  0.103158 -0.067440  NaN\n",
              "2022-10-04  1.049436 -0.437048 -2.045406  NaN\n",
              "2022-10-05  1.898311 -1.121081  2.039884  NaN\n",
              "2022-10-06  1.176737  0.421491  1.421084  NaN\n",
              "2022-10-07 -0.630086  1.472090 -0.191784  NaN\n",
              "2022-10-08 -1.418966 -0.161707  0.343028  NaN\n",
              "2022-10-09 -0.175687  0.789459  0.682181  NaN\n",
              "2022-10-10  0.380855 -0.971559 -0.856660  NaN\n",
              "2022-10-11 -0.626967  0.027880  0.014861  NaN"
            ]
          },
          "execution_count": 85,
          "metadata": {},
          "output_type": "execute_result"
        }
      ],
      "source": [
        "df"
      ]
    },
    {
      "cell_type": "code",
      "execution_count": null,
      "id": "75a6f9c3-8476-46f5-9883-11992a391121",
      "metadata": {
        "id": "75a6f9c3-8476-46f5-9883-11992a391121"
      },
      "outputs": [],
      "source": [
        "df.at[dates[0], \"a\"] = 0 # cambia las entradas por etiqueta"
      ]
    },
    {
      "cell_type": "code",
      "execution_count": null,
      "id": "30e0d6e1-e797-4a50-8008-036464d8e1da",
      "metadata": {
        "id": "30e0d6e1-e797-4a50-8008-036464d8e1da"
      },
      "outputs": [],
      "source": [
        "df.iat[0, 1] = 0 # cambia la entrada por posicion"
      ]
    },
    {
      "cell_type": "code",
      "execution_count": null,
      "id": "9537222b-cc87-492a-b6af-ac502650b3e2",
      "metadata": {
        "id": "9537222b-cc87-492a-b6af-ac502650b3e2"
      },
      "outputs": [],
      "source": [
        "df.loc[:, \"D\"] = np.array([20] * len(df))"
      ]
    },
    {
      "cell_type": "code",
      "execution_count": null,
      "id": "cb5ce216-c207-41d2-b7f6-f3f7cd9bf917",
      "metadata": {
        "id": "cb5ce216-c207-41d2-b7f6-f3f7cd9bf917",
        "outputId": "fd6cbd45-d4d3-4b7e-ce2d-deb0e4e38b43"
      },
      "outputs": [
        {
          "data": {
            "text/html": [
              "<div>\n",
              "<style scoped>\n",
              "    .dataframe tbody tr th:only-of-type {\n",
              "        vertical-align: middle;\n",
              "    }\n",
              "\n",
              "    .dataframe tbody tr th {\n",
              "        vertical-align: top;\n",
              "    }\n",
              "\n",
              "    .dataframe thead th {\n",
              "        text-align: right;\n",
              "    }\n",
              "</style>\n",
              "<table border=\"1\" class=\"dataframe\">\n",
              "  <thead>\n",
              "    <tr style=\"text-align: right;\">\n",
              "      <th></th>\n",
              "      <th>c</th>\n",
              "      <th>a</th>\n",
              "      <th>t</th>\n",
              "      <th>s</th>\n",
              "      <th>D</th>\n",
              "    </tr>\n",
              "  </thead>\n",
              "  <tbody>\n",
              "    <tr>\n",
              "      <th>2022-10-02</th>\n",
              "      <td>0.881703</td>\n",
              "      <td>0.000000</td>\n",
              "      <td>-0.971782</td>\n",
              "      <td>NaN</td>\n",
              "      <td>20</td>\n",
              "    </tr>\n",
              "    <tr>\n",
              "      <th>2022-10-03</th>\n",
              "      <td>-0.521404</td>\n",
              "      <td>0.103158</td>\n",
              "      <td>-0.067440</td>\n",
              "      <td>NaN</td>\n",
              "      <td>20</td>\n",
              "    </tr>\n",
              "    <tr>\n",
              "      <th>2022-10-04</th>\n",
              "      <td>1.049436</td>\n",
              "      <td>-0.437048</td>\n",
              "      <td>-2.045406</td>\n",
              "      <td>NaN</td>\n",
              "      <td>20</td>\n",
              "    </tr>\n",
              "    <tr>\n",
              "      <th>2022-10-05</th>\n",
              "      <td>1.898311</td>\n",
              "      <td>-1.121081</td>\n",
              "      <td>2.039884</td>\n",
              "      <td>NaN</td>\n",
              "      <td>20</td>\n",
              "    </tr>\n",
              "    <tr>\n",
              "      <th>2022-10-06</th>\n",
              "      <td>1.176737</td>\n",
              "      <td>0.421491</td>\n",
              "      <td>1.421084</td>\n",
              "      <td>NaN</td>\n",
              "      <td>20</td>\n",
              "    </tr>\n",
              "    <tr>\n",
              "      <th>2022-10-07</th>\n",
              "      <td>-0.630086</td>\n",
              "      <td>1.472090</td>\n",
              "      <td>-0.191784</td>\n",
              "      <td>NaN</td>\n",
              "      <td>20</td>\n",
              "    </tr>\n",
              "    <tr>\n",
              "      <th>2022-10-08</th>\n",
              "      <td>-1.418966</td>\n",
              "      <td>-0.161707</td>\n",
              "      <td>0.343028</td>\n",
              "      <td>NaN</td>\n",
              "      <td>20</td>\n",
              "    </tr>\n",
              "    <tr>\n",
              "      <th>2022-10-09</th>\n",
              "      <td>-0.175687</td>\n",
              "      <td>0.789459</td>\n",
              "      <td>0.682181</td>\n",
              "      <td>NaN</td>\n",
              "      <td>20</td>\n",
              "    </tr>\n",
              "    <tr>\n",
              "      <th>2022-10-10</th>\n",
              "      <td>0.380855</td>\n",
              "      <td>-0.971559</td>\n",
              "      <td>-0.856660</td>\n",
              "      <td>NaN</td>\n",
              "      <td>20</td>\n",
              "    </tr>\n",
              "    <tr>\n",
              "      <th>2022-10-11</th>\n",
              "      <td>-0.626967</td>\n",
              "      <td>0.027880</td>\n",
              "      <td>0.014861</td>\n",
              "      <td>NaN</td>\n",
              "      <td>20</td>\n",
              "    </tr>\n",
              "  </tbody>\n",
              "</table>\n",
              "</div>"
            ],
            "text/plain": [
              "                   c         a         t    s   D\n",
              "2022-10-02  0.881703  0.000000 -0.971782  NaN  20\n",
              "2022-10-03 -0.521404  0.103158 -0.067440  NaN  20\n",
              "2022-10-04  1.049436 -0.437048 -2.045406  NaN  20\n",
              "2022-10-05  1.898311 -1.121081  2.039884  NaN  20\n",
              "2022-10-06  1.176737  0.421491  1.421084  NaN  20\n",
              "2022-10-07 -0.630086  1.472090 -0.191784  NaN  20\n",
              "2022-10-08 -1.418966 -0.161707  0.343028  NaN  20\n",
              "2022-10-09 -0.175687  0.789459  0.682181  NaN  20\n",
              "2022-10-10  0.380855 -0.971559 -0.856660  NaN  20\n",
              "2022-10-11 -0.626967  0.027880  0.014861  NaN  20"
            ]
          },
          "execution_count": 101,
          "metadata": {},
          "output_type": "execute_result"
        }
      ],
      "source": [
        "df"
      ]
    },
    {
      "cell_type": "code",
      "execution_count": null,
      "id": "380c3fe6",
      "metadata": {
        "id": "380c3fe6",
        "outputId": "e06ab085-c0e6-4a44-92eb-34dae330a3af",
        "colab": {
          "base_uri": "https://localhost:8080/",
          "height": 336
        }
      },
      "outputs": [
        {
          "output_type": "error",
          "ename": "HTTPError",
          "evalue": "ignored",
          "traceback": [
            "\u001b[0;31m---------------------------------------------------------------------------\u001b[0m",
            "\u001b[0;31mHTTPError\u001b[0m                                 Traceback (most recent call last)",
            "\u001b[0;32m<ipython-input-3-957f03d5ebb4>\u001b[0m in \u001b[0;36m<module>\u001b[0;34m\u001b[0m\n\u001b[0;32m----> 1\u001b[0;31m \u001b[0mdf4\u001b[0m\u001b[0;34m=\u001b[0m\u001b[0mpd\u001b[0m\u001b[0;34m.\u001b[0m\u001b[0mread_csv\u001b[0m\u001b[0;34m(\u001b[0m\u001b[0;34mr\"http://www2.ssn.unam.mx:8080/catalogo/csv/20221115160620HIRPN.csv\"\u001b[0m\u001b[0;34m,\u001b[0m \u001b[0mskiprows\u001b[0m\u001b[0;34m=\u001b[0m\u001b[0;36m4\u001b[0m\u001b[0;34m,\u001b[0m \u001b[0mskipfooter\u001b[0m\u001b[0;34m=\u001b[0m\u001b[0;36m7\u001b[0m\u001b[0;34m,\u001b[0m\u001b[0mparse_dates\u001b[0m\u001b[0;34m=\u001b[0m\u001b[0;34m[\u001b[0m\u001b[0;34m\"Fecha\"\u001b[0m\u001b[0;34m]\u001b[0m\u001b[0;34m,\u001b[0m\u001b[0mengine\u001b[0m\u001b[0;34m=\u001b[0m\u001b[0;34m'python'\u001b[0m\u001b[0;34m)\u001b[0m\u001b[0;34m\u001b[0m\u001b[0;34m\u001b[0m\u001b[0m\n\u001b[0m\u001b[1;32m      2\u001b[0m \u001b[0mdf4\u001b[0m\u001b[0;34m\u001b[0m\u001b[0;34m\u001b[0m\u001b[0m\n",
            "\u001b[0;32m/usr/local/lib/python3.7/dist-packages/pandas/util/_decorators.py\u001b[0m in \u001b[0;36mwrapper\u001b[0;34m(*args, **kwargs)\u001b[0m\n\u001b[1;32m    309\u001b[0m                     \u001b[0mstacklevel\u001b[0m\u001b[0;34m=\u001b[0m\u001b[0mstacklevel\u001b[0m\u001b[0;34m,\u001b[0m\u001b[0;34m\u001b[0m\u001b[0;34m\u001b[0m\u001b[0m\n\u001b[1;32m    310\u001b[0m                 )\n\u001b[0;32m--> 311\u001b[0;31m             \u001b[0;32mreturn\u001b[0m \u001b[0mfunc\u001b[0m\u001b[0;34m(\u001b[0m\u001b[0;34m*\u001b[0m\u001b[0margs\u001b[0m\u001b[0;34m,\u001b[0m \u001b[0;34m**\u001b[0m\u001b[0mkwargs\u001b[0m\u001b[0;34m)\u001b[0m\u001b[0;34m\u001b[0m\u001b[0;34m\u001b[0m\u001b[0m\n\u001b[0m\u001b[1;32m    312\u001b[0m \u001b[0;34m\u001b[0m\u001b[0m\n\u001b[1;32m    313\u001b[0m         \u001b[0;32mreturn\u001b[0m \u001b[0mwrapper\u001b[0m\u001b[0;34m\u001b[0m\u001b[0;34m\u001b[0m\u001b[0m\n",
            "\u001b[0;32m/usr/local/lib/python3.7/dist-packages/pandas/io/parsers/readers.py\u001b[0m in \u001b[0;36mread_csv\u001b[0;34m(filepath_or_buffer, sep, delimiter, header, names, index_col, usecols, squeeze, prefix, mangle_dupe_cols, dtype, engine, converters, true_values, false_values, skipinitialspace, skiprows, skipfooter, nrows, na_values, keep_default_na, na_filter, verbose, skip_blank_lines, parse_dates, infer_datetime_format, keep_date_col, date_parser, dayfirst, cache_dates, iterator, chunksize, compression, thousands, decimal, lineterminator, quotechar, quoting, doublequote, escapechar, comment, encoding, encoding_errors, dialect, error_bad_lines, warn_bad_lines, on_bad_lines, delim_whitespace, low_memory, memory_map, float_precision, storage_options)\u001b[0m\n\u001b[1;32m    584\u001b[0m     \u001b[0mkwds\u001b[0m\u001b[0;34m.\u001b[0m\u001b[0mupdate\u001b[0m\u001b[0;34m(\u001b[0m\u001b[0mkwds_defaults\u001b[0m\u001b[0;34m)\u001b[0m\u001b[0;34m\u001b[0m\u001b[0;34m\u001b[0m\u001b[0m\n\u001b[1;32m    585\u001b[0m \u001b[0;34m\u001b[0m\u001b[0m\n\u001b[0;32m--> 586\u001b[0;31m     \u001b[0;32mreturn\u001b[0m \u001b[0m_read\u001b[0m\u001b[0;34m(\u001b[0m\u001b[0mfilepath_or_buffer\u001b[0m\u001b[0;34m,\u001b[0m \u001b[0mkwds\u001b[0m\u001b[0;34m)\u001b[0m\u001b[0;34m\u001b[0m\u001b[0;34m\u001b[0m\u001b[0m\n\u001b[0m\u001b[1;32m    587\u001b[0m \u001b[0;34m\u001b[0m\u001b[0m\n\u001b[1;32m    588\u001b[0m \u001b[0;34m\u001b[0m\u001b[0m\n",
            "\u001b[0;32m/usr/local/lib/python3.7/dist-packages/pandas/io/parsers/readers.py\u001b[0m in \u001b[0;36m_read\u001b[0;34m(filepath_or_buffer, kwds)\u001b[0m\n\u001b[1;32m    480\u001b[0m \u001b[0;34m\u001b[0m\u001b[0m\n\u001b[1;32m    481\u001b[0m     \u001b[0;31m# Create the parser.\u001b[0m\u001b[0;34m\u001b[0m\u001b[0;34m\u001b[0m\u001b[0;34m\u001b[0m\u001b[0m\n\u001b[0;32m--> 482\u001b[0;31m     \u001b[0mparser\u001b[0m \u001b[0;34m=\u001b[0m \u001b[0mTextFileReader\u001b[0m\u001b[0;34m(\u001b[0m\u001b[0mfilepath_or_buffer\u001b[0m\u001b[0;34m,\u001b[0m \u001b[0;34m**\u001b[0m\u001b[0mkwds\u001b[0m\u001b[0;34m)\u001b[0m\u001b[0;34m\u001b[0m\u001b[0;34m\u001b[0m\u001b[0m\n\u001b[0m\u001b[1;32m    483\u001b[0m \u001b[0;34m\u001b[0m\u001b[0m\n\u001b[1;32m    484\u001b[0m     \u001b[0;32mif\u001b[0m \u001b[0mchunksize\u001b[0m \u001b[0;32mor\u001b[0m \u001b[0miterator\u001b[0m\u001b[0;34m:\u001b[0m\u001b[0;34m\u001b[0m\u001b[0;34m\u001b[0m\u001b[0m\n",
            "\u001b[0;32m/usr/local/lib/python3.7/dist-packages/pandas/io/parsers/readers.py\u001b[0m in \u001b[0;36m__init__\u001b[0;34m(self, f, engine, **kwds)\u001b[0m\n\u001b[1;32m    809\u001b[0m             \u001b[0mself\u001b[0m\u001b[0;34m.\u001b[0m\u001b[0moptions\u001b[0m\u001b[0;34m[\u001b[0m\u001b[0;34m\"has_index_names\"\u001b[0m\u001b[0;34m]\u001b[0m \u001b[0;34m=\u001b[0m \u001b[0mkwds\u001b[0m\u001b[0;34m[\u001b[0m\u001b[0;34m\"has_index_names\"\u001b[0m\u001b[0;34m]\u001b[0m\u001b[0;34m\u001b[0m\u001b[0;34m\u001b[0m\u001b[0m\n\u001b[1;32m    810\u001b[0m \u001b[0;34m\u001b[0m\u001b[0m\n\u001b[0;32m--> 811\u001b[0;31m         \u001b[0mself\u001b[0m\u001b[0;34m.\u001b[0m\u001b[0m_engine\u001b[0m \u001b[0;34m=\u001b[0m \u001b[0mself\u001b[0m\u001b[0;34m.\u001b[0m\u001b[0m_make_engine\u001b[0m\u001b[0;34m(\u001b[0m\u001b[0mself\u001b[0m\u001b[0;34m.\u001b[0m\u001b[0mengine\u001b[0m\u001b[0;34m)\u001b[0m\u001b[0;34m\u001b[0m\u001b[0;34m\u001b[0m\u001b[0m\n\u001b[0m\u001b[1;32m    812\u001b[0m \u001b[0;34m\u001b[0m\u001b[0m\n\u001b[1;32m    813\u001b[0m     \u001b[0;32mdef\u001b[0m \u001b[0mclose\u001b[0m\u001b[0;34m(\u001b[0m\u001b[0mself\u001b[0m\u001b[0;34m)\u001b[0m\u001b[0;34m:\u001b[0m\u001b[0;34m\u001b[0m\u001b[0;34m\u001b[0m\u001b[0m\n",
            "\u001b[0;32m/usr/local/lib/python3.7/dist-packages/pandas/io/parsers/readers.py\u001b[0m in \u001b[0;36m_make_engine\u001b[0;34m(self, engine)\u001b[0m\n\u001b[1;32m   1038\u001b[0m             )\n\u001b[1;32m   1039\u001b[0m         \u001b[0;31m# error: Too many arguments for \"ParserBase\"\u001b[0m\u001b[0;34m\u001b[0m\u001b[0;34m\u001b[0m\u001b[0;34m\u001b[0m\u001b[0m\n\u001b[0;32m-> 1040\u001b[0;31m         \u001b[0;32mreturn\u001b[0m \u001b[0mmapping\u001b[0m\u001b[0;34m[\u001b[0m\u001b[0mengine\u001b[0m\u001b[0;34m]\u001b[0m\u001b[0;34m(\u001b[0m\u001b[0mself\u001b[0m\u001b[0;34m.\u001b[0m\u001b[0mf\u001b[0m\u001b[0;34m,\u001b[0m \u001b[0;34m**\u001b[0m\u001b[0mself\u001b[0m\u001b[0;34m.\u001b[0m\u001b[0moptions\u001b[0m\u001b[0;34m)\u001b[0m  \u001b[0;31m# type: ignore[call-arg]\u001b[0m\u001b[0;34m\u001b[0m\u001b[0;34m\u001b[0m\u001b[0m\n\u001b[0m\u001b[1;32m   1041\u001b[0m \u001b[0;34m\u001b[0m\u001b[0m\n\u001b[1;32m   1042\u001b[0m     \u001b[0;32mdef\u001b[0m \u001b[0m_failover_to_python\u001b[0m\u001b[0;34m(\u001b[0m\u001b[0mself\u001b[0m\u001b[0;34m)\u001b[0m\u001b[0;34m:\u001b[0m\u001b[0;34m\u001b[0m\u001b[0;34m\u001b[0m\u001b[0m\n",
            "\u001b[0;32m/usr/local/lib/python3.7/dist-packages/pandas/io/parsers/python_parser.py\u001b[0m in \u001b[0;36m__init__\u001b[0;34m(self, f, **kwds)\u001b[0m\n\u001b[1;32m     94\u001b[0m             \u001b[0mself\u001b[0m\u001b[0;34m.\u001b[0m\u001b[0mdata\u001b[0m \u001b[0;34m=\u001b[0m \u001b[0mcast\u001b[0m\u001b[0;34m(\u001b[0m\u001b[0mIterator\u001b[0m\u001b[0;34m[\u001b[0m\u001b[0mstr\u001b[0m\u001b[0;34m]\u001b[0m\u001b[0;34m,\u001b[0m \u001b[0mf\u001b[0m\u001b[0;34m)\u001b[0m\u001b[0;34m\u001b[0m\u001b[0;34m\u001b[0m\u001b[0m\n\u001b[1;32m     95\u001b[0m         \u001b[0;32melse\u001b[0m\u001b[0;34m:\u001b[0m\u001b[0;34m\u001b[0m\u001b[0;34m\u001b[0m\u001b[0m\n\u001b[0;32m---> 96\u001b[0;31m             \u001b[0mself\u001b[0m\u001b[0;34m.\u001b[0m\u001b[0m_open_handles\u001b[0m\u001b[0;34m(\u001b[0m\u001b[0mf\u001b[0m\u001b[0;34m,\u001b[0m \u001b[0mkwds\u001b[0m\u001b[0;34m)\u001b[0m\u001b[0;34m\u001b[0m\u001b[0;34m\u001b[0m\u001b[0m\n\u001b[0m\u001b[1;32m     97\u001b[0m             \u001b[0;32massert\u001b[0m \u001b[0mself\u001b[0m\u001b[0;34m.\u001b[0m\u001b[0mhandles\u001b[0m \u001b[0;32mis\u001b[0m \u001b[0;32mnot\u001b[0m \u001b[0;32mNone\u001b[0m\u001b[0;34m\u001b[0m\u001b[0;34m\u001b[0m\u001b[0m\n\u001b[1;32m     98\u001b[0m             \u001b[0;32massert\u001b[0m \u001b[0mhasattr\u001b[0m\u001b[0;34m(\u001b[0m\u001b[0mself\u001b[0m\u001b[0;34m.\u001b[0m\u001b[0mhandles\u001b[0m\u001b[0;34m.\u001b[0m\u001b[0mhandle\u001b[0m\u001b[0;34m,\u001b[0m \u001b[0;34m\"readline\"\u001b[0m\u001b[0;34m)\u001b[0m\u001b[0;34m\u001b[0m\u001b[0;34m\u001b[0m\u001b[0m\n",
            "\u001b[0;32m/usr/local/lib/python3.7/dist-packages/pandas/io/parsers/base_parser.py\u001b[0m in \u001b[0;36m_open_handles\u001b[0;34m(self, src, kwds)\u001b[0m\n\u001b[1;32m    227\u001b[0m             \u001b[0mmemory_map\u001b[0m\u001b[0;34m=\u001b[0m\u001b[0mkwds\u001b[0m\u001b[0;34m.\u001b[0m\u001b[0mget\u001b[0m\u001b[0;34m(\u001b[0m\u001b[0;34m\"memory_map\"\u001b[0m\u001b[0;34m,\u001b[0m \u001b[0;32mFalse\u001b[0m\u001b[0;34m)\u001b[0m\u001b[0;34m,\u001b[0m\u001b[0;34m\u001b[0m\u001b[0;34m\u001b[0m\u001b[0m\n\u001b[1;32m    228\u001b[0m             \u001b[0mstorage_options\u001b[0m\u001b[0;34m=\u001b[0m\u001b[0mkwds\u001b[0m\u001b[0;34m.\u001b[0m\u001b[0mget\u001b[0m\u001b[0;34m(\u001b[0m\u001b[0;34m\"storage_options\"\u001b[0m\u001b[0;34m,\u001b[0m \u001b[0;32mNone\u001b[0m\u001b[0;34m)\u001b[0m\u001b[0;34m,\u001b[0m\u001b[0;34m\u001b[0m\u001b[0;34m\u001b[0m\u001b[0m\n\u001b[0;32m--> 229\u001b[0;31m             \u001b[0merrors\u001b[0m\u001b[0;34m=\u001b[0m\u001b[0mkwds\u001b[0m\u001b[0;34m.\u001b[0m\u001b[0mget\u001b[0m\u001b[0;34m(\u001b[0m\u001b[0;34m\"encoding_errors\"\u001b[0m\u001b[0;34m,\u001b[0m \u001b[0;34m\"strict\"\u001b[0m\u001b[0;34m)\u001b[0m\u001b[0;34m,\u001b[0m\u001b[0;34m\u001b[0m\u001b[0;34m\u001b[0m\u001b[0m\n\u001b[0m\u001b[1;32m    230\u001b[0m         )\n\u001b[1;32m    231\u001b[0m \u001b[0;34m\u001b[0m\u001b[0m\n",
            "\u001b[0;32m/usr/local/lib/python3.7/dist-packages/pandas/io/common.py\u001b[0m in \u001b[0;36mget_handle\u001b[0;34m(path_or_buf, mode, encoding, compression, memory_map, is_text, errors, storage_options)\u001b[0m\n\u001b[1;32m    612\u001b[0m         \u001b[0mcompression\u001b[0m\u001b[0;34m=\u001b[0m\u001b[0mcompression\u001b[0m\u001b[0;34m,\u001b[0m\u001b[0;34m\u001b[0m\u001b[0;34m\u001b[0m\u001b[0m\n\u001b[1;32m    613\u001b[0m         \u001b[0mmode\u001b[0m\u001b[0;34m=\u001b[0m\u001b[0mmode\u001b[0m\u001b[0;34m,\u001b[0m\u001b[0;34m\u001b[0m\u001b[0;34m\u001b[0m\u001b[0m\n\u001b[0;32m--> 614\u001b[0;31m         \u001b[0mstorage_options\u001b[0m\u001b[0;34m=\u001b[0m\u001b[0mstorage_options\u001b[0m\u001b[0;34m,\u001b[0m\u001b[0;34m\u001b[0m\u001b[0;34m\u001b[0m\u001b[0m\n\u001b[0m\u001b[1;32m    615\u001b[0m     )\n\u001b[1;32m    616\u001b[0m \u001b[0;34m\u001b[0m\u001b[0m\n",
            "\u001b[0;32m/usr/local/lib/python3.7/dist-packages/pandas/io/common.py\u001b[0m in \u001b[0;36m_get_filepath_or_buffer\u001b[0;34m(filepath_or_buffer, encoding, compression, mode, storage_options)\u001b[0m\n\u001b[1;32m    310\u001b[0m         \u001b[0;31m# assuming storage_options is to be interpreted as headers\u001b[0m\u001b[0;34m\u001b[0m\u001b[0;34m\u001b[0m\u001b[0;34m\u001b[0m\u001b[0m\n\u001b[1;32m    311\u001b[0m         \u001b[0mreq_info\u001b[0m \u001b[0;34m=\u001b[0m \u001b[0murllib\u001b[0m\u001b[0;34m.\u001b[0m\u001b[0mrequest\u001b[0m\u001b[0;34m.\u001b[0m\u001b[0mRequest\u001b[0m\u001b[0;34m(\u001b[0m\u001b[0mfilepath_or_buffer\u001b[0m\u001b[0;34m,\u001b[0m \u001b[0mheaders\u001b[0m\u001b[0;34m=\u001b[0m\u001b[0mstorage_options\u001b[0m\u001b[0;34m)\u001b[0m\u001b[0;34m\u001b[0m\u001b[0;34m\u001b[0m\u001b[0m\n\u001b[0;32m--> 312\u001b[0;31m         \u001b[0;32mwith\u001b[0m \u001b[0murlopen\u001b[0m\u001b[0;34m(\u001b[0m\u001b[0mreq_info\u001b[0m\u001b[0;34m)\u001b[0m \u001b[0;32mas\u001b[0m \u001b[0mreq\u001b[0m\u001b[0;34m:\u001b[0m\u001b[0;34m\u001b[0m\u001b[0;34m\u001b[0m\u001b[0m\n\u001b[0m\u001b[1;32m    313\u001b[0m             \u001b[0mcontent_encoding\u001b[0m \u001b[0;34m=\u001b[0m \u001b[0mreq\u001b[0m\u001b[0;34m.\u001b[0m\u001b[0mheaders\u001b[0m\u001b[0;34m.\u001b[0m\u001b[0mget\u001b[0m\u001b[0;34m(\u001b[0m\u001b[0;34m\"Content-Encoding\"\u001b[0m\u001b[0;34m,\u001b[0m \u001b[0;32mNone\u001b[0m\u001b[0;34m)\u001b[0m\u001b[0;34m\u001b[0m\u001b[0;34m\u001b[0m\u001b[0m\n\u001b[1;32m    314\u001b[0m             \u001b[0;32mif\u001b[0m \u001b[0mcontent_encoding\u001b[0m \u001b[0;34m==\u001b[0m \u001b[0;34m\"gzip\"\u001b[0m\u001b[0;34m:\u001b[0m\u001b[0;34m\u001b[0m\u001b[0;34m\u001b[0m\u001b[0m\n",
            "\u001b[0;32m/usr/local/lib/python3.7/dist-packages/pandas/io/common.py\u001b[0m in \u001b[0;36murlopen\u001b[0;34m(*args, **kwargs)\u001b[0m\n\u001b[1;32m    210\u001b[0m     \u001b[0;32mimport\u001b[0m \u001b[0murllib\u001b[0m\u001b[0;34m.\u001b[0m\u001b[0mrequest\u001b[0m\u001b[0;34m\u001b[0m\u001b[0;34m\u001b[0m\u001b[0m\n\u001b[1;32m    211\u001b[0m \u001b[0;34m\u001b[0m\u001b[0m\n\u001b[0;32m--> 212\u001b[0;31m     \u001b[0;32mreturn\u001b[0m \u001b[0murllib\u001b[0m\u001b[0;34m.\u001b[0m\u001b[0mrequest\u001b[0m\u001b[0;34m.\u001b[0m\u001b[0murlopen\u001b[0m\u001b[0;34m(\u001b[0m\u001b[0;34m*\u001b[0m\u001b[0margs\u001b[0m\u001b[0;34m,\u001b[0m \u001b[0;34m**\u001b[0m\u001b[0mkwargs\u001b[0m\u001b[0;34m)\u001b[0m\u001b[0;34m\u001b[0m\u001b[0;34m\u001b[0m\u001b[0m\n\u001b[0m\u001b[1;32m    213\u001b[0m \u001b[0;34m\u001b[0m\u001b[0m\n\u001b[1;32m    214\u001b[0m \u001b[0;34m\u001b[0m\u001b[0m\n",
            "\u001b[0;32m/usr/lib/python3.7/urllib/request.py\u001b[0m in \u001b[0;36murlopen\u001b[0;34m(url, data, timeout, cafile, capath, cadefault, context)\u001b[0m\n\u001b[1;32m    220\u001b[0m     \u001b[0;32melse\u001b[0m\u001b[0;34m:\u001b[0m\u001b[0;34m\u001b[0m\u001b[0;34m\u001b[0m\u001b[0m\n\u001b[1;32m    221\u001b[0m         \u001b[0mopener\u001b[0m \u001b[0;34m=\u001b[0m \u001b[0m_opener\u001b[0m\u001b[0;34m\u001b[0m\u001b[0;34m\u001b[0m\u001b[0m\n\u001b[0;32m--> 222\u001b[0;31m     \u001b[0;32mreturn\u001b[0m \u001b[0mopener\u001b[0m\u001b[0;34m.\u001b[0m\u001b[0mopen\u001b[0m\u001b[0;34m(\u001b[0m\u001b[0murl\u001b[0m\u001b[0;34m,\u001b[0m \u001b[0mdata\u001b[0m\u001b[0;34m,\u001b[0m \u001b[0mtimeout\u001b[0m\u001b[0;34m)\u001b[0m\u001b[0;34m\u001b[0m\u001b[0;34m\u001b[0m\u001b[0m\n\u001b[0m\u001b[1;32m    223\u001b[0m \u001b[0;34m\u001b[0m\u001b[0m\n\u001b[1;32m    224\u001b[0m \u001b[0;32mdef\u001b[0m \u001b[0minstall_opener\u001b[0m\u001b[0;34m(\u001b[0m\u001b[0mopener\u001b[0m\u001b[0;34m)\u001b[0m\u001b[0;34m:\u001b[0m\u001b[0;34m\u001b[0m\u001b[0;34m\u001b[0m\u001b[0m\n",
            "\u001b[0;32m/usr/lib/python3.7/urllib/request.py\u001b[0m in \u001b[0;36mopen\u001b[0;34m(self, fullurl, data, timeout)\u001b[0m\n\u001b[1;32m    529\u001b[0m         \u001b[0;32mfor\u001b[0m \u001b[0mprocessor\u001b[0m \u001b[0;32min\u001b[0m \u001b[0mself\u001b[0m\u001b[0;34m.\u001b[0m\u001b[0mprocess_response\u001b[0m\u001b[0;34m.\u001b[0m\u001b[0mget\u001b[0m\u001b[0;34m(\u001b[0m\u001b[0mprotocol\u001b[0m\u001b[0;34m,\u001b[0m \u001b[0;34m[\u001b[0m\u001b[0;34m]\u001b[0m\u001b[0;34m)\u001b[0m\u001b[0;34m:\u001b[0m\u001b[0;34m\u001b[0m\u001b[0;34m\u001b[0m\u001b[0m\n\u001b[1;32m    530\u001b[0m             \u001b[0mmeth\u001b[0m \u001b[0;34m=\u001b[0m \u001b[0mgetattr\u001b[0m\u001b[0;34m(\u001b[0m\u001b[0mprocessor\u001b[0m\u001b[0;34m,\u001b[0m \u001b[0mmeth_name\u001b[0m\u001b[0;34m)\u001b[0m\u001b[0;34m\u001b[0m\u001b[0;34m\u001b[0m\u001b[0m\n\u001b[0;32m--> 531\u001b[0;31m             \u001b[0mresponse\u001b[0m \u001b[0;34m=\u001b[0m \u001b[0mmeth\u001b[0m\u001b[0;34m(\u001b[0m\u001b[0mreq\u001b[0m\u001b[0;34m,\u001b[0m \u001b[0mresponse\u001b[0m\u001b[0;34m)\u001b[0m\u001b[0;34m\u001b[0m\u001b[0;34m\u001b[0m\u001b[0m\n\u001b[0m\u001b[1;32m    532\u001b[0m \u001b[0;34m\u001b[0m\u001b[0m\n\u001b[1;32m    533\u001b[0m         \u001b[0;32mreturn\u001b[0m \u001b[0mresponse\u001b[0m\u001b[0;34m\u001b[0m\u001b[0;34m\u001b[0m\u001b[0m\n",
            "\u001b[0;32m/usr/lib/python3.7/urllib/request.py\u001b[0m in \u001b[0;36mhttp_response\u001b[0;34m(self, request, response)\u001b[0m\n\u001b[1;32m    639\u001b[0m         \u001b[0;32mif\u001b[0m \u001b[0;32mnot\u001b[0m \u001b[0;34m(\u001b[0m\u001b[0;36m200\u001b[0m \u001b[0;34m<=\u001b[0m \u001b[0mcode\u001b[0m \u001b[0;34m<\u001b[0m \u001b[0;36m300\u001b[0m\u001b[0;34m)\u001b[0m\u001b[0;34m:\u001b[0m\u001b[0;34m\u001b[0m\u001b[0;34m\u001b[0m\u001b[0m\n\u001b[1;32m    640\u001b[0m             response = self.parent.error(\n\u001b[0;32m--> 641\u001b[0;31m                 'http', request, response, code, msg, hdrs)\n\u001b[0m\u001b[1;32m    642\u001b[0m \u001b[0;34m\u001b[0m\u001b[0m\n\u001b[1;32m    643\u001b[0m         \u001b[0;32mreturn\u001b[0m \u001b[0mresponse\u001b[0m\u001b[0;34m\u001b[0m\u001b[0;34m\u001b[0m\u001b[0m\n",
            "\u001b[0;32m/usr/lib/python3.7/urllib/request.py\u001b[0m in \u001b[0;36merror\u001b[0;34m(self, proto, *args)\u001b[0m\n\u001b[1;32m    567\u001b[0m         \u001b[0;32mif\u001b[0m \u001b[0mhttp_err\u001b[0m\u001b[0;34m:\u001b[0m\u001b[0;34m\u001b[0m\u001b[0;34m\u001b[0m\u001b[0m\n\u001b[1;32m    568\u001b[0m             \u001b[0margs\u001b[0m \u001b[0;34m=\u001b[0m \u001b[0;34m(\u001b[0m\u001b[0mdict\u001b[0m\u001b[0;34m,\u001b[0m \u001b[0;34m'default'\u001b[0m\u001b[0;34m,\u001b[0m \u001b[0;34m'http_error_default'\u001b[0m\u001b[0;34m)\u001b[0m \u001b[0;34m+\u001b[0m \u001b[0morig_args\u001b[0m\u001b[0;34m\u001b[0m\u001b[0;34m\u001b[0m\u001b[0m\n\u001b[0;32m--> 569\u001b[0;31m             \u001b[0;32mreturn\u001b[0m \u001b[0mself\u001b[0m\u001b[0;34m.\u001b[0m\u001b[0m_call_chain\u001b[0m\u001b[0;34m(\u001b[0m\u001b[0;34m*\u001b[0m\u001b[0margs\u001b[0m\u001b[0;34m)\u001b[0m\u001b[0;34m\u001b[0m\u001b[0;34m\u001b[0m\u001b[0m\n\u001b[0m\u001b[1;32m    570\u001b[0m \u001b[0;34m\u001b[0m\u001b[0m\n\u001b[1;32m    571\u001b[0m \u001b[0;31m# XXX probably also want an abstract factory that knows when it makes\u001b[0m\u001b[0;34m\u001b[0m\u001b[0;34m\u001b[0m\u001b[0;34m\u001b[0m\u001b[0m\n",
            "\u001b[0;32m/usr/lib/python3.7/urllib/request.py\u001b[0m in \u001b[0;36m_call_chain\u001b[0;34m(self, chain, kind, meth_name, *args)\u001b[0m\n\u001b[1;32m    501\u001b[0m         \u001b[0;32mfor\u001b[0m \u001b[0mhandler\u001b[0m \u001b[0;32min\u001b[0m \u001b[0mhandlers\u001b[0m\u001b[0;34m:\u001b[0m\u001b[0;34m\u001b[0m\u001b[0;34m\u001b[0m\u001b[0m\n\u001b[1;32m    502\u001b[0m             \u001b[0mfunc\u001b[0m \u001b[0;34m=\u001b[0m \u001b[0mgetattr\u001b[0m\u001b[0;34m(\u001b[0m\u001b[0mhandler\u001b[0m\u001b[0;34m,\u001b[0m \u001b[0mmeth_name\u001b[0m\u001b[0;34m)\u001b[0m\u001b[0;34m\u001b[0m\u001b[0;34m\u001b[0m\u001b[0m\n\u001b[0;32m--> 503\u001b[0;31m             \u001b[0mresult\u001b[0m \u001b[0;34m=\u001b[0m \u001b[0mfunc\u001b[0m\u001b[0;34m(\u001b[0m\u001b[0;34m*\u001b[0m\u001b[0margs\u001b[0m\u001b[0;34m)\u001b[0m\u001b[0;34m\u001b[0m\u001b[0;34m\u001b[0m\u001b[0m\n\u001b[0m\u001b[1;32m    504\u001b[0m             \u001b[0;32mif\u001b[0m \u001b[0mresult\u001b[0m \u001b[0;32mis\u001b[0m \u001b[0;32mnot\u001b[0m \u001b[0;32mNone\u001b[0m\u001b[0;34m:\u001b[0m\u001b[0;34m\u001b[0m\u001b[0;34m\u001b[0m\u001b[0m\n\u001b[1;32m    505\u001b[0m                 \u001b[0;32mreturn\u001b[0m \u001b[0mresult\u001b[0m\u001b[0;34m\u001b[0m\u001b[0;34m\u001b[0m\u001b[0m\n",
            "\u001b[0;32m/usr/lib/python3.7/urllib/request.py\u001b[0m in \u001b[0;36mhttp_error_default\u001b[0;34m(self, req, fp, code, msg, hdrs)\u001b[0m\n\u001b[1;32m    647\u001b[0m \u001b[0;32mclass\u001b[0m \u001b[0mHTTPDefaultErrorHandler\u001b[0m\u001b[0;34m(\u001b[0m\u001b[0mBaseHandler\u001b[0m\u001b[0;34m)\u001b[0m\u001b[0;34m:\u001b[0m\u001b[0;34m\u001b[0m\u001b[0;34m\u001b[0m\u001b[0m\n\u001b[1;32m    648\u001b[0m     \u001b[0;32mdef\u001b[0m \u001b[0mhttp_error_default\u001b[0m\u001b[0;34m(\u001b[0m\u001b[0mself\u001b[0m\u001b[0;34m,\u001b[0m \u001b[0mreq\u001b[0m\u001b[0;34m,\u001b[0m \u001b[0mfp\u001b[0m\u001b[0;34m,\u001b[0m \u001b[0mcode\u001b[0m\u001b[0;34m,\u001b[0m \u001b[0mmsg\u001b[0m\u001b[0;34m,\u001b[0m \u001b[0mhdrs\u001b[0m\u001b[0;34m)\u001b[0m\u001b[0;34m:\u001b[0m\u001b[0;34m\u001b[0m\u001b[0;34m\u001b[0m\u001b[0m\n\u001b[0;32m--> 649\u001b[0;31m         \u001b[0;32mraise\u001b[0m \u001b[0mHTTPError\u001b[0m\u001b[0;34m(\u001b[0m\u001b[0mreq\u001b[0m\u001b[0;34m.\u001b[0m\u001b[0mfull_url\u001b[0m\u001b[0;34m,\u001b[0m \u001b[0mcode\u001b[0m\u001b[0;34m,\u001b[0m \u001b[0mmsg\u001b[0m\u001b[0;34m,\u001b[0m \u001b[0mhdrs\u001b[0m\u001b[0;34m,\u001b[0m \u001b[0mfp\u001b[0m\u001b[0;34m)\u001b[0m\u001b[0;34m\u001b[0m\u001b[0;34m\u001b[0m\u001b[0m\n\u001b[0m\u001b[1;32m    650\u001b[0m \u001b[0;34m\u001b[0m\u001b[0m\n\u001b[1;32m    651\u001b[0m \u001b[0;32mclass\u001b[0m \u001b[0mHTTPRedirectHandler\u001b[0m\u001b[0;34m(\u001b[0m\u001b[0mBaseHandler\u001b[0m\u001b[0;34m)\u001b[0m\u001b[0;34m:\u001b[0m\u001b[0;34m\u001b[0m\u001b[0;34m\u001b[0m\u001b[0m\n",
            "\u001b[0;31mHTTPError\u001b[0m: HTTP Error 404: Not Found"
          ]
        }
      ],
      "source": [
        "df4=pd.read_csv(r\"http://www2.ssn.unam.mx:8080/catalogo/csv/20221115160620HIRPN.csv\", skiprows=4, skipfooter=7,parse_dates=[\"Fecha\"],engine='python')\n",
        "df4"
      ]
    },
    {
      "cell_type": "code",
      "execution_count": null,
      "id": "d78d44b0",
      "metadata": {
        "id": "d78d44b0",
        "outputId": "339948c3-65d6-4fae-b113-db450264f387"
      },
      "outputs": [
        {
          "data": {
            "text/html": [
              "<div>\n",
              "<style scoped>\n",
              "    .dataframe tbody tr th:only-of-type {\n",
              "        vertical-align: middle;\n",
              "    }\n",
              "\n",
              "    .dataframe tbody tr th {\n",
              "        vertical-align: top;\n",
              "    }\n",
              "\n",
              "    .dataframe thead th {\n",
              "        text-align: right;\n",
              "    }\n",
              "</style>\n",
              "<table border=\"1\" class=\"dataframe\">\n",
              "  <thead>\n",
              "    <tr style=\"text-align: right;\">\n",
              "      <th></th>\n",
              "      <th>Magnitud</th>\n",
              "      <th>Latitud</th>\n",
              "      <th>Longitud</th>\n",
              "    </tr>\n",
              "  </thead>\n",
              "  <tbody>\n",
              "    <tr>\n",
              "      <th>count</th>\n",
              "      <td>114407.000000</td>\n",
              "      <td>114407.000000</td>\n",
              "      <td>114407.000000</td>\n",
              "    </tr>\n",
              "    <tr>\n",
              "      <th>mean</th>\n",
              "      <td>3.574162</td>\n",
              "      <td>17.938967</td>\n",
              "      <td>-99.355638</td>\n",
              "    </tr>\n",
              "    <tr>\n",
              "      <th>std</th>\n",
              "      <td>0.340066</td>\n",
              "      <td>3.882416</td>\n",
              "      <td>5.443464</td>\n",
              "    </tr>\n",
              "    <tr>\n",
              "      <th>min</th>\n",
              "      <td>0.300000</td>\n",
              "      <td>12.840000</td>\n",
              "      <td>-119.239000</td>\n",
              "    </tr>\n",
              "    <tr>\n",
              "      <th>25%</th>\n",
              "      <td>3.400000</td>\n",
              "      <td>16.044500</td>\n",
              "      <td>-102.154000</td>\n",
              "    </tr>\n",
              "    <tr>\n",
              "      <th>50%</th>\n",
              "      <td>3.600000</td>\n",
              "      <td>16.616000</td>\n",
              "      <td>-98.113700</td>\n",
              "    </tr>\n",
              "    <tr>\n",
              "      <th>75%</th>\n",
              "      <td>3.800000</td>\n",
              "      <td>18.222750</td>\n",
              "      <td>-95.120000</td>\n",
              "    </tr>\n",
              "    <tr>\n",
              "      <th>max</th>\n",
              "      <td>7.700000</td>\n",
              "      <td>38.092300</td>\n",
              "      <td>-88.710000</td>\n",
              "    </tr>\n",
              "  </tbody>\n",
              "</table>\n",
              "</div>"
            ],
            "text/plain": [
              "            Magnitud        Latitud       Longitud\n",
              "count  114407.000000  114407.000000  114407.000000\n",
              "mean        3.574162      17.938967     -99.355638\n",
              "std         0.340066       3.882416       5.443464\n",
              "min         0.300000      12.840000    -119.239000\n",
              "25%         3.400000      16.044500    -102.154000\n",
              "50%         3.600000      16.616000     -98.113700\n",
              "75%         3.800000      18.222750     -95.120000\n",
              "max         7.700000      38.092300     -88.710000"
            ]
          },
          "execution_count": 9,
          "metadata": {},
          "output_type": "execute_result"
        }
      ],
      "source": [
        "df4.describe()"
      ]
    },
    {
      "cell_type": "code",
      "execution_count": null,
      "id": "7abbe683",
      "metadata": {
        "id": "7abbe683",
        "outputId": "cfaabdf9-309c-4be9-efef-1f33d03e5403"
      },
      "outputs": [
        {
          "data": {
            "text/plain": [
              "Fecha                                               2018-11-15\n",
              "Hora                                                  00:00:01\n",
              "Magnitud                                                   0.3\n",
              "Latitud                                                  12.84\n",
              "Longitud                                              -119.239\n",
              "Profundidad                                                1.0\n",
              "Referencia de localizacion    1 km al ESTE de CACAHOATAN, CHIS\n",
              "Fecha UTC                                           2018-11-15\n",
              "Hora UTC                                              00:00:01\n",
              "Estatus                                               revisado\n",
              "dtype: object"
            ]
          },
          "execution_count": 10,
          "metadata": {},
          "output_type": "execute_result"
        }
      ],
      "source": [
        "df4.min()"
      ]
    },
    {
      "cell_type": "code",
      "execution_count": null,
      "id": "dea7e1a6",
      "metadata": {
        "id": "dea7e1a6",
        "outputId": "3dfdbefe-0569-4a22-e58c-6ce63d434002"
      },
      "outputs": [
        {
          "data": {
            "text/plain": [
              "Fecha                                                            2022-11-15\n",
              "Hora                                                               23:59:59\n",
              "Magnitud                                                                7.7\n",
              "Latitud                                                             38.0923\n",
              "Longitud                                                             -88.71\n",
              "Profundidad                                                      menos de 1\n",
              "Referencia de localizacion    menos de 1 km al SUROESTE de RIO GRANDE, OAX \n",
              "Fecha UTC                                                        2022-11-15\n",
              "Hora UTC                                                           23:59:58\n",
              "Estatus                                                          verificado\n",
              "dtype: object"
            ]
          },
          "execution_count": 11,
          "metadata": {},
          "output_type": "execute_result"
        }
      ],
      "source": [
        "df4.max()"
      ]
    },
    {
      "cell_type": "code",
      "execution_count": null,
      "id": "e7dbb001",
      "metadata": {
        "id": "e7dbb001"
      },
      "outputs": [],
      "source": [
        "import matplotlib.pyplot as plt\n"
      ]
    },
    {
      "cell_type": "code",
      "execution_count": null,
      "id": "dd1a6789",
      "metadata": {
        "id": "dd1a6789",
        "outputId": "aa080c8f-28f0-45d6-d277-39783b84522a"
      },
      "outputs": [
        {
          "data": {
            "text/plain": [
              "Index(['Fecha', 'Hora', 'Magnitud', 'Latitud', 'Longitud', 'Profundidad',\n",
              "       'Referencia de localizacion', 'Fecha UTC', 'Hora UTC', 'Estatus'],\n",
              "      dtype='object')"
            ]
          },
          "execution_count": 13,
          "metadata": {},
          "output_type": "execute_result"
        }
      ],
      "source": [
        "df4.columns"
      ]
    },
    {
      "cell_type": "code",
      "execution_count": null,
      "id": "8dea04eb",
      "metadata": {
        "id": "8dea04eb",
        "outputId": "3f9d0ac0-b26d-44db-9b8d-7aded5ec8538"
      },
      "outputs": [
        {
          "data": {
            "text/plain": [
              "<BarContainer object of 114407 artists>"
            ]
          },
          "execution_count": 14,
          "metadata": {},
          "output_type": "execute_result"
        },
        {
          "data": {
            "image/png": "[encoded data removed]",
            "text/plain": [
              "<Figure size 640x480 with 1 Axes>"
            ]
          },
          "metadata": {},
          "output_type": "display_data"
        }
      ],
      "source": [
        "plt.bar(df4['Fecha'], df4['Magnitud'])"
      ]
    },
    {
      "cell_type": "code",
      "execution_count": null,
      "id": "bad513c0",
      "metadata": {
        "id": "bad513c0",
        "outputId": "9f133805-10ec-4e85-c522-3063e4a5c60e"
      },
      "outputs": [
        {
          "data": {
            "text/plain": [
              "0        2018-11-15\n",
              "1        2018-11-15\n",
              "2        2018-11-15\n",
              "3        2018-11-15\n",
              "4        2018-11-15\n",
              "            ...    \n",
              "114402   2022-11-15\n",
              "114403   2022-11-15\n",
              "114404   2022-11-15\n",
              "114405   2022-11-15\n",
              "114406   2022-11-15\n",
              "Name: Fecha, Length: 114407, dtype: datetime64[ns]"
            ]
          },
          "execution_count": 40,
          "metadata": {},
          "output_type": "execute_result"
        }
      ],
      "source": [
        "pd.to_datetime(df4['Fecha'])\n"
      ]
    },
    {
      "cell_type": "code",
      "execution_count": null,
      "id": "accda3d7",
      "metadata": {
        "id": "accda3d7",
        "outputId": "b00e4c35-ed02-4009-f835-a9dd703a65cd"
      },
      "outputs": [
        {
          "name": "stdout",
          "output_type": "stream",
          "text": [
            "24943\n"
          ]
        },
        {
          "data": {
            "text/html": [
              "<div>\n",
              "<style scoped>\n",
              "    .dataframe tbody tr th:only-of-type {\n",
              "        vertical-align: middle;\n",
              "    }\n",
              "\n",
              "    .dataframe tbody tr th {\n",
              "        vertical-align: top;\n",
              "    }\n",
              "\n",
              "    .dataframe thead th {\n",
              "        text-align: right;\n",
              "    }\n",
              "</style>\n",
              "<table border=\"1\" class=\"dataframe\">\n",
              "  <thead>\n",
              "    <tr style=\"text-align: right;\">\n",
              "      <th></th>\n",
              "      <th>Fecha</th>\n",
              "      <th>Hora</th>\n",
              "      <th>Magnitud</th>\n",
              "      <th>Latitud</th>\n",
              "      <th>Longitud</th>\n",
              "      <th>Profundidad</th>\n",
              "      <th>Referencia de localizacion</th>\n",
              "      <th>Fecha UTC</th>\n",
              "      <th>Hora UTC</th>\n",
              "      <th>Estatus</th>\n",
              "    </tr>\n",
              "  </thead>\n",
              "  <tbody>\n",
              "    <tr>\n",
              "      <th>89464</th>\n",
              "      <td>2022-01-01</td>\n",
              "      <td>00:06:28</td>\n",
              "      <td>3.2</td>\n",
              "      <td>19.9447</td>\n",
              "      <td>-105.5300</td>\n",
              "      <td>27.4</td>\n",
              "      <td>80 km al SUROESTE de PUERTO VALLARTA, JAL</td>\n",
              "      <td>2022-01-01</td>\n",
              "      <td>06:06:28</td>\n",
              "      <td>revisado</td>\n",
              "    </tr>\n",
              "    <tr>\n",
              "      <th>89465</th>\n",
              "      <td>2022-01-01</td>\n",
              "      <td>00:08:49</td>\n",
              "      <td>3.8</td>\n",
              "      <td>14.8052</td>\n",
              "      <td>-92.7858</td>\n",
              "      <td>80.3</td>\n",
              "      <td>50 km al SUROESTE de HUIXTLA, CHIS</td>\n",
              "      <td>2022-01-01</td>\n",
              "      <td>06:08:49</td>\n",
              "      <td>revisado</td>\n",
              "    </tr>\n",
              "    <tr>\n",
              "      <th>89466</th>\n",
              "      <td>2022-01-01</td>\n",
              "      <td>00:19:01</td>\n",
              "      <td>3.3</td>\n",
              "      <td>16.1715</td>\n",
              "      <td>-99.0460</td>\n",
              "      <td>17.0</td>\n",
              "      <td>78 km al SURESTE de SAN MARCOS, GRO</td>\n",
              "      <td>2022-01-01</td>\n",
              "      <td>06:19:01</td>\n",
              "      <td>revisado</td>\n",
              "    </tr>\n",
              "    <tr>\n",
              "      <th>89467</th>\n",
              "      <td>2022-01-01</td>\n",
              "      <td>01:17:34</td>\n",
              "      <td>3.8</td>\n",
              "      <td>16.0447</td>\n",
              "      <td>-97.0378</td>\n",
              "      <td>25.9</td>\n",
              "      <td>20 km al NORTE de PUERTO ESCONDIDO, OAX</td>\n",
              "      <td>2022-01-01</td>\n",
              "      <td>07:17:34</td>\n",
              "      <td>revisado</td>\n",
              "    </tr>\n",
              "    <tr>\n",
              "      <th>89468</th>\n",
              "      <td>2022-01-01</td>\n",
              "      <td>01:40:16</td>\n",
              "      <td>3.4</td>\n",
              "      <td>16.4237</td>\n",
              "      <td>-98.6483</td>\n",
              "      <td>14.0</td>\n",
              "      <td>39 km al SUROESTE de OMETEPEC, GRO</td>\n",
              "      <td>2022-01-01</td>\n",
              "      <td>07:40:16</td>\n",
              "      <td>revisado</td>\n",
              "    </tr>\n",
              "    <tr>\n",
              "      <th>...</th>\n",
              "      <td>...</td>\n",
              "      <td>...</td>\n",
              "      <td>...</td>\n",
              "      <td>...</td>\n",
              "      <td>...</td>\n",
              "      <td>...</td>\n",
              "      <td>...</td>\n",
              "      <td>...</td>\n",
              "      <td>...</td>\n",
              "      <td>...</td>\n",
              "    </tr>\n",
              "    <tr>\n",
              "      <th>114402</th>\n",
              "      <td>2022-11-15</td>\n",
              "      <td>04:11:32</td>\n",
              "      <td>4.2</td>\n",
              "      <td>17.0100</td>\n",
              "      <td>-98.8100</td>\n",
              "      <td>39.0</td>\n",
              "      <td>56 km al NOROESTE de OMETEPEC, GRO</td>\n",
              "      <td>2022-11-15</td>\n",
              "      <td>10:11:32</td>\n",
              "      <td>verificado</td>\n",
              "    </tr>\n",
              "    <tr>\n",
              "      <th>114403</th>\n",
              "      <td>2022-11-15</td>\n",
              "      <td>04:30:05</td>\n",
              "      <td>3.7</td>\n",
              "      <td>18.7200</td>\n",
              "      <td>-106.2700</td>\n",
              "      <td>6.0</td>\n",
              "      <td>189 km al SUROESTE de CIHUATLAN, JAL</td>\n",
              "      <td>2022-11-15</td>\n",
              "      <td>10:30:05</td>\n",
              "      <td>verificado</td>\n",
              "    </tr>\n",
              "    <tr>\n",
              "      <th>114404</th>\n",
              "      <td>2022-11-15</td>\n",
              "      <td>04:55:02</td>\n",
              "      <td>3.6</td>\n",
              "      <td>17.1600</td>\n",
              "      <td>-95.0500</td>\n",
              "      <td>49.0</td>\n",
              "      <td>32 km al NORTE de MATIAS ROMERO, OAX</td>\n",
              "      <td>2022-11-15</td>\n",
              "      <td>10:55:02</td>\n",
              "      <td>verificado</td>\n",
              "    </tr>\n",
              "    <tr>\n",
              "      <th>114405</th>\n",
              "      <td>2022-11-15</td>\n",
              "      <td>08:12:34</td>\n",
              "      <td>4.1</td>\n",
              "      <td>14.3600</td>\n",
              "      <td>-93.0000</td>\n",
              "      <td>15.0</td>\n",
              "      <td>98 km al SUROESTE de CD HIDALGO, CHIS</td>\n",
              "      <td>2022-11-15</td>\n",
              "      <td>14:12:34</td>\n",
              "      <td>verificado</td>\n",
              "    </tr>\n",
              "    <tr>\n",
              "      <th>114406</th>\n",
              "      <td>2022-11-15</td>\n",
              "      <td>08:42:30</td>\n",
              "      <td>4.0</td>\n",
              "      <td>18.5300</td>\n",
              "      <td>-103.6700</td>\n",
              "      <td>10.0</td>\n",
              "      <td>47 km al SURESTE de TECOMAN, COL</td>\n",
              "      <td>2022-11-15</td>\n",
              "      <td>14:42:30</td>\n",
              "      <td>verificado</td>\n",
              "    </tr>\n",
              "  </tbody>\n",
              "</table>\n",
              "<p>24943 rows × 10 columns</p>\n",
              "</div>"
            ],
            "text/plain": [
              "             Fecha      Hora  Magnitud  Latitud  Longitud Profundidad  \\\n",
              "89464   2022-01-01  00:06:28       3.2  19.9447 -105.5300        27.4   \n",
              "89465   2022-01-01  00:08:49       3.8  14.8052  -92.7858        80.3   \n",
              "89466   2022-01-01  00:19:01       3.3  16.1715  -99.0460        17.0   \n",
              "89467   2022-01-01  01:17:34       3.8  16.0447  -97.0378        25.9   \n",
              "89468   2022-01-01  01:40:16       3.4  16.4237  -98.6483        14.0   \n",
              "...            ...       ...       ...      ...       ...         ...   \n",
              "114402  2022-11-15  04:11:32       4.2  17.0100  -98.8100        39.0   \n",
              "114403  2022-11-15  04:30:05       3.7  18.7200 -106.2700         6.0   \n",
              "114404  2022-11-15  04:55:02       3.6  17.1600  -95.0500        49.0   \n",
              "114405  2022-11-15  08:12:34       4.1  14.3600  -93.0000        15.0   \n",
              "114406  2022-11-15  08:42:30       4.0  18.5300 -103.6700        10.0   \n",
              "\n",
              "                       Referencia de localizacion   Fecha UTC  Hora UTC  \\\n",
              "89464   80 km al SUROESTE de PUERTO VALLARTA, JAL  2022-01-01  06:06:28   \n",
              "89465          50 km al SUROESTE de HUIXTLA, CHIS  2022-01-01  06:08:49   \n",
              "89466         78 km al SURESTE de SAN MARCOS, GRO  2022-01-01  06:19:01   \n",
              "89467     20 km al NORTE de PUERTO ESCONDIDO, OAX  2022-01-01  07:17:34   \n",
              "89468          39 km al SUROESTE de OMETEPEC, GRO  2022-01-01  07:40:16   \n",
              "...                                           ...         ...       ...   \n",
              "114402        56 km al NOROESTE de OMETEPEC, GRO   2022-11-15  10:11:32   \n",
              "114403      189 km al SUROESTE de CIHUATLAN, JAL   2022-11-15  10:30:05   \n",
              "114404      32 km al NORTE de MATIAS ROMERO, OAX   2022-11-15  10:55:02   \n",
              "114405     98 km al SUROESTE de CD HIDALGO, CHIS   2022-11-15  14:12:34   \n",
              "114406          47 km al SURESTE de TECOMAN, COL   2022-11-15  14:42:30   \n",
              "\n",
              "           Estatus  \n",
              "89464     revisado  \n",
              "89465     revisado  \n",
              "89466     revisado  \n",
              "89467     revisado  \n",
              "89468     revisado  \n",
              "...            ...  \n",
              "114402  verificado  \n",
              "114403  verificado  \n",
              "114404  verificado  \n",
              "114405  verificado  \n",
              "114406  verificado  \n",
              "\n",
              "[24943 rows x 10 columns]"
            ]
          },
          "execution_count": 35,
          "metadata": {},
          "output_type": "execute_result"
        }
      ],
      "source": [
        "#hacer un filtro de fechas\n",
        "filtered_df4 = df4.loc[(df4['Fecha'] >= '2022-01-01')\n",
        "                     & (df4['Fecha'] <= '2022-12-31')]\n",
        "\n",
        "print(len(filtered_df4))\n",
        "filtered_df4"
      ]
    },
    {
      "cell_type": "code",
      "execution_count": null,
      "id": "ee338ec7",
      "metadata": {
        "id": "ee338ec7",
        "outputId": "ad6653c9-995a-49ee-f613-f65eab319022"
      },
      "outputs": [
        {
          "data": {
            "text/plain": [
              "(24943, 29030, 30130, 26442, 3862)"
            ]
          },
          "execution_count": 72,
          "metadata": {},
          "output_type": "execute_result"
        }
      ],
      "source": [
        "df4['Fecha']\n",
        "f2022 = df4.loc[df4['Fecha'].dt.year == 2022]\n",
        "f2021 = df4.loc[df4['Fecha'].dt.year == 2021]\n",
        "f2020 = df4.loc[df4['Fecha'].dt.year == 2020]\n",
        "f2019 = df4.loc[df4['Fecha'].dt.year == 2019]\n",
        "f2018 = df4.loc[df4['Fecha'].dt.year == 2018]\n",
        "len(f2022), len(f2021), len(f2020), len(f2019), len(f2018)\n"
      ]
    },
    {
      "cell_type": "code",
      "execution_count": null,
      "id": "a4524120",
      "metadata": {
        "id": "a4524120",
        "outputId": "46e94099-cc1f-4de9-ca69-5ee111146007"
      },
      "outputs": [
        {
          "data": {
            "text/plain": [
              "Fecha                                                  2020-12-31 00:00:00\n",
              "Hora                                                              23:59:59\n",
              "Magnitud                                                               7.4\n",
              "Latitud                                                            32.7503\n",
              "Longitud                                                          -90.9342\n",
              "Profundidad                                                     menos de 1\n",
              "Referencia de localizacion    menos de 1 km al SUROESTE de RIO GRANDE, OAX\n",
              "Fecha UTC                                                       2021-01-01\n",
              "Hora UTC                                                          23:59:54\n",
              "Estatus                                                           revisado\n",
              "dtype: object"
            ]
          },
          "execution_count": 73,
          "metadata": {},
          "output_type": "execute_result"
        }
      ],
      "source": [
        "f2020.max()"
      ]
    },
    {
      "cell_type": "code",
      "execution_count": null,
      "id": "17c18b77",
      "metadata": {
        "id": "17c18b77"
      },
      "outputs": [],
      "source": []
    }
  ],
  "metadata": {
    "kernelspec": {
      "display_name": "Python 3 (ipykernel)",
      "language": "python",
      "name": "python3"
    },
    "language_info": {
      "codemirror_mode": {
        "name": "ipython",
        "version": 3
      },
      "file_extension": ".py",
      "mimetype": "text/x-python",
      "name": "python",
      "nbconvert_exporter": "python",
      "pygments_lexer": "ipython3",
      "version": "3.11.0"
    },
    "colab": {
      "provenance": [],
      "include_colab_link": true
    }
  },
  "nbformat": 4,
  "nbformat_minor": 5
}